{
 "cells": [
  {
   "cell_type": "markdown",
   "id": "0ac42628",
   "metadata": {
    "papermill": {
     "duration": 0.01473,
     "end_time": "2023-08-14T18:43:05.134001",
     "exception": false,
     "start_time": "2023-08-14T18:43:05.119271",
     "status": "completed"
    },
    "tags": []
   },
   "source": [
    "# NeurIPS 2023 Machine Unlearning Challenge\n",
    "Heavily based off of the code presented here: https://github.com/unlearning-challenge/starting-kit/blob/main/unlearning-CIFAR10.ipynb\n",
    "\n",
    "Relevant Links:\n",
    "Fast Yet Effective Unlearning: https://arxiv.org/pdf/2111.08947.pdf and [code repo](https://github.com/vikram2000b/Fast-Machine-Unlearning/blob/main/Machine%20Unlearning.ipynb)\n",
    "\n",
    "LEACE: https://arxiv.org/pdf/2306.03819.pdf"
   ]
  },
  {
   "cell_type": "code",
   "execution_count": 1,
   "id": "956a5995",
   "metadata": {
    "_cell_guid": "b1076dfc-b9ad-4769-8c92-a6c4dae69d19",
    "_uuid": "8f2839f25d086af736a60e9eeb907d3b93b6e0e5",
    "execution": {
     "iopub.execute_input": "2023-08-14T18:43:05.164554Z",
     "iopub.status.busy": "2023-08-14T18:43:05.164165Z",
     "iopub.status.idle": "2023-08-14T18:43:05.188757Z",
     "shell.execute_reply": "2023-08-14T18:43:05.187906Z"
    },
    "papermill": {
     "duration": 0.042864,
     "end_time": "2023-08-14T18:43:05.191228",
     "exception": false,
     "start_time": "2023-08-14T18:43:05.148364",
     "status": "completed"
    },
    "tags": []
   },
   "outputs": [],
   "source": [
    "%%script false --no-raise-error\n",
    "# This Python 3 environment comes with many helpful analytics libraries installed\n",
    "# It is defined by the kaggle/python Docker image: https://github.com/kaggle/docker-python\n",
    "# For example, here's several helpful packages to load\n",
    "\n",
    "import numpy as np # linear algebra\n",
    "import pandas as pd # data processing, CSV file I/O (e.g. pd.read_csv)\n",
    "\n",
    "# Input data files are available in the read-only \"../input/\" directory\n",
    "# For example, running this (by clicking run or pressing Shift+Enter) will list all files under the input directory\n",
    "\n",
    "import os\n",
    "for dirname, _, filenames in os.walk('/kaggle/input'):\n",
    "    for filename in filenames:\n",
    "        print(os.path.join(dirname, filename))\n",
    "\n",
    "# You can write up to 20GB to the current directory (/kaggle/working/) that gets preserved as output when you create a version using \"Save & Run All\" \n",
    "# You can also write temporary files to /kaggle/temp/, but they won't be saved outside of the current session"
   ]
  },
  {
   "cell_type": "code",
   "execution_count": 2,
   "id": "8a905ea1",
   "metadata": {
    "execution": {
     "iopub.execute_input": "2023-08-14T18:43:05.223592Z",
     "iopub.status.busy": "2023-08-14T18:43:05.222850Z",
     "iopub.status.idle": "2023-08-14T18:43:22.391754Z",
     "shell.execute_reply": "2023-08-14T18:43:22.390543Z"
    },
    "papermill": {
     "duration": 17.189061,
     "end_time": "2023-08-14T18:43:22.394888",
     "exception": false,
     "start_time": "2023-08-14T18:43:05.205827",
     "status": "completed"
    },
    "tags": []
   },
   "outputs": [
    {
     "name": "stderr",
     "output_type": "stream",
     "text": [
      "/opt/conda/lib/python3.10/site-packages/scipy/__init__.py:146: UserWarning: A NumPy version >=1.16.5 and <1.23.0 is required for this version of SciPy (detected version 1.23.5\n",
      "  warnings.warn(f\"A NumPy version >={np_minversion} and <{np_maxversion}\"\n"
     ]
    },
    {
     "name": "stdout",
     "output_type": "stream",
     "text": [
      "Running on device: CPU\n",
      "Downloading https://www.cs.toronto.edu/~kriz/cifar-10-python.tar.gz to ./data/cifar-10-python.tar.gz\n"
     ]
    },
    {
     "name": "stderr",
     "output_type": "stream",
     "text": [
      "100%|██████████| 170498071/170498071 [00:05<00:00, 31555912.03it/s]\n"
     ]
    },
    {
     "name": "stdout",
     "output_type": "stream",
     "text": [
      "Extracting ./data/cifar-10-python.tar.gz to ./data\n",
      "Files already downloaded and verified\n"
     ]
    }
   ],
   "source": [
    "import os\n",
    "import requests\n",
    "import numpy as np\n",
    "import matplotlib.pyplot as plt\n",
    "from sklearn import linear_model, model_selection\n",
    "\n",
    "from tqdm import tqdm\n",
    "import torch\n",
    "from torch import nn\n",
    "from torch import optim\n",
    "from torch.utils.data import DataLoader\n",
    "\n",
    "import torchvision\n",
    "from torchvision import transforms\n",
    "from torchvision.utils import make_grid\n",
    "from torchvision.models import resnet18\n",
    "\n",
    "DEVICE = \"cuda\" if torch.cuda.is_available() else \"cpu\"\n",
    "print(\"Running on device:\", DEVICE.upper())\n",
    "\n",
    "# manual random seed is used for dataset partitioning\n",
    "# to ensure reproducible results across runs\n",
    "RNG = torch.Generator().manual_seed(42)\n",
    "\n",
    "# download and pre-process CIFAR10\n",
    "normalize = transforms.Compose(\n",
    "    [\n",
    "        transforms.ToTensor(),\n",
    "        transforms.Normalize((0.4914, 0.4822, 0.4465), (0.2023, 0.1994, 0.2010)),\n",
    "    ]\n",
    ")\n",
    "\n",
    "train_set = torchvision.datasets.CIFAR10(\n",
    "    root=\"./data\", train=True, download=True, transform=normalize\n",
    ")\n",
    "train_loader = DataLoader(train_set, batch_size=128, shuffle=True, num_workers=2)\n",
    "\n",
    "# we split held out data into test and validation set\n",
    "held_out = torchvision.datasets.CIFAR10(\n",
    "    root=\"./data\", train=False, download=True, transform=normalize\n",
    ")\n",
    "test_set, val_set = torch.utils.data.random_split(held_out, [0.5, 0.5], generator=RNG)\n",
    "test_loader = DataLoader(test_set, batch_size=128, shuffle=False, num_workers=2)\n",
    "val_loader = DataLoader(val_set, batch_size=128, shuffle=False, num_workers=2)\n",
    "\n",
    "# download the forget and retain index split\n",
    "local_path = \"forget_idx.npy\"\n",
    "if not os.path.exists(local_path):\n",
    "    response = requests.get(\n",
    "        \"https://unlearning-challenge.s3.eu-west-1.amazonaws.com/cifar10/\" + local_path\n",
    "    )\n",
    "    open(local_path, \"wb\").write(response.content)\n",
    "forget_idx = np.load(local_path)\n",
    "\n",
    "# construct indices of retain from those of the forget set\n",
    "forget_mask = np.zeros(len(train_set.targets), dtype=bool)\n",
    "forget_mask[forget_idx] = True\n",
    "retain_idx = np.arange(forget_mask.size)[~forget_mask]\n",
    "\n",
    "# split train set into a forget and a retain set\n",
    "forget_set = torch.utils.data.Subset(train_set, forget_idx)\n",
    "retain_set = torch.utils.data.Subset(train_set, retain_idx)\n",
    "\n",
    "forget_loader = torch.utils.data.DataLoader(\n",
    "    forget_set, batch_size=128, shuffle=True, num_workers=2\n",
    ")\n",
    "retain_loader = torch.utils.data.DataLoader(\n",
    "    retain_set, batch_size=128, shuffle=True, num_workers=2, generator=RNG\n",
    ")\n"
   ]
  },
  {
   "cell_type": "markdown",
   "id": "132a8036",
   "metadata": {
    "papermill": {
     "duration": 0.056596,
     "end_time": "2023-08-14T18:43:22.482125",
     "exception": false,
     "start_time": "2023-08-14T18:43:22.425529",
     "status": "completed"
    },
    "tags": []
   },
   "source": [
    "Since we can't download the aws weights, I've manually uploaded them to this Kaggle notebook as `unlearning-cifar10-resnet18-weights`"
   ]
  },
  {
   "cell_type": "code",
   "execution_count": 3,
   "id": "536b03f3",
   "metadata": {
    "execution": {
     "iopub.execute_input": "2023-08-14T18:43:22.527631Z",
     "iopub.status.busy": "2023-08-14T18:43:22.526614Z",
     "iopub.status.idle": "2023-08-14T18:43:25.831063Z",
     "shell.execute_reply": "2023-08-14T18:43:25.829854Z"
    },
    "papermill": {
     "duration": 3.329622,
     "end_time": "2023-08-14T18:43:25.834097",
     "exception": false,
     "start_time": "2023-08-14T18:43:22.504475",
     "status": "completed"
    },
    "scrolled": true,
    "tags": []
   },
   "outputs": [],
   "source": [
    "# download pre-trained weights\n",
    "local_path = \"weights_resnet18_cifar10.pth\"\n",
    "if not os.path.exists(local_path):\n",
    "    response = requests.get(\n",
    "        \"https://unlearning-challenge.s3.eu-west-1.amazonaws.com/weights_resnet18_cifar10.pth\"\n",
    "    )\n",
    "    open(local_path, \"wb\").write(response.content)\n",
    "\n",
    "weights_pretrained = torch.load(local_path, map_location=DEVICE)\n",
    "\n",
    "# load model with pre-trained weights\n",
    "model = resnet18(weights=None, num_classes=10)\n",
    "model.load_state_dict(weights_pretrained)\n",
    "model.to(DEVICE)\n",
    "model.eval();\n",
    "\n",
    "# weights_pretrained = torch.load('/kaggle/input/unlearning-cifar10-resnet18-weights/unlearning-cifar10-resnet18-weights/weights_resnet18_cifar10.pth', map_location=DEVICE)\n",
    "# model = resnet18(weights=None, num_classes=10)\n",
    "# model.load_state_dict(weights_pretrained)\n",
    "# model.to(DEVICE)\n",
    "# model.eval()"
   ]
  },
  {
   "cell_type": "markdown",
   "id": "fca4aa76",
   "metadata": {
    "papermill": {
     "duration": 0.019554,
     "end_time": "2023-08-14T18:43:25.873412",
     "exception": false,
     "start_time": "2023-08-14T18:43:25.853858",
     "status": "completed"
    },
    "tags": []
   },
   "source": [
    "Look at sample images"
   ]
  },
  {
   "cell_type": "code",
   "execution_count": 4,
   "id": "397d0d74",
   "metadata": {
    "execution": {
     "iopub.execute_input": "2023-08-14T18:43:25.916722Z",
     "iopub.status.busy": "2023-08-14T18:43:25.916331Z",
     "iopub.status.idle": "2023-08-14T18:43:25.926149Z",
     "shell.execute_reply": "2023-08-14T18:43:25.925164Z"
    },
    "papermill": {
     "duration": 0.034741,
     "end_time": "2023-08-14T18:43:25.928655",
     "exception": false,
     "start_time": "2023-08-14T18:43:25.893914",
     "status": "completed"
    },
    "tags": []
   },
   "outputs": [],
   "source": [
    "%%script false --no-raise-error\n",
    "\n",
    "# a temporary data loader without normalization, just to show the images\n",
    "tmp_dl = DataLoader(\n",
    "    torchvision.datasets.CIFAR10(\n",
    "        root=\"./data\", train=True, download=True, transform=transforms.ToTensor()\n",
    "    ),\n",
    "    batch_size=16 * 5,\n",
    "    shuffle=False,\n",
    ")\n",
    "images, labels = next(iter(tmp_dl))\n",
    "\n",
    "fig, ax = plt.subplots(figsize=(12, 6))\n",
    "plt.title(\"Sample images from CIFAR10 dataset\")\n",
    "ax.set_xticks([])\n",
    "ax.set_yticks([])\n",
    "ax.imshow(make_grid(images, nrow=16).permute(1, 2, 0))\n",
    "plt.show()"
   ]
  },
  {
   "cell_type": "markdown",
   "id": "a42057be",
   "metadata": {
    "papermill": {
     "duration": 0.019697,
     "end_time": "2023-08-14T18:43:25.968996",
     "exception": false,
     "start_time": "2023-08-14T18:43:25.949299",
     "status": "completed"
    },
    "tags": []
   },
   "source": [
    "## Accuracy Equation"
   ]
  },
  {
   "cell_type": "code",
   "execution_count": 5,
   "id": "ccc7b6ab",
   "metadata": {
    "execution": {
     "iopub.execute_input": "2023-08-14T18:43:26.011799Z",
     "iopub.status.busy": "2023-08-14T18:43:26.010745Z",
     "iopub.status.idle": "2023-08-14T18:43:26.018470Z",
     "shell.execute_reply": "2023-08-14T18:43:26.017532Z"
    },
    "papermill": {
     "duration": 0.03191,
     "end_time": "2023-08-14T18:43:26.021026",
     "exception": false,
     "start_time": "2023-08-14T18:43:25.989116",
     "status": "completed"
    },
    "tags": []
   },
   "outputs": [],
   "source": [
    "def accuracy(net, loader):\n",
    "    \"\"\"Return accuracy on a dataset given by the data loader.\"\"\"\n",
    "    correct = 0\n",
    "    total = 0\n",
    "    for inputs, targets in tqdm(loader):\n",
    "        inputs, targets = inputs.to(DEVICE), targets.to(DEVICE)\n",
    "        outputs = net(inputs)\n",
    "        _, predicted = outputs.max(1)\n",
    "        total += targets.size(0)\n",
    "        correct += predicted.eq(targets).sum().item()\n",
    "    return correct / total"
   ]
  },
  {
   "cell_type": "code",
   "execution_count": 6,
   "id": "5b2284fb",
   "metadata": {
    "execution": {
     "iopub.execute_input": "2023-08-14T18:43:26.062160Z",
     "iopub.status.busy": "2023-08-14T18:43:26.061734Z",
     "iopub.status.idle": "2023-08-14T18:44:42.389538Z",
     "shell.execute_reply": "2023-08-14T18:44:42.386934Z"
    },
    "papermill": {
     "duration": 76.35365,
     "end_time": "2023-08-14T18:44:42.394208",
     "exception": false,
     "start_time": "2023-08-14T18:43:26.040558",
     "status": "completed"
    },
    "tags": []
   },
   "outputs": [
    {
     "name": "stderr",
     "output_type": "stream",
     "text": [
      "100%|██████████| 391/391 [01:08<00:00,  5.69it/s]\n"
     ]
    },
    {
     "name": "stdout",
     "output_type": "stream",
     "text": [
      "Train set accuracy: 99.5%\n"
     ]
    },
    {
     "name": "stderr",
     "output_type": "stream",
     "text": [
      "100%|██████████| 40/40 [00:07<00:00,  5.25it/s]"
     ]
    },
    {
     "name": "stdout",
     "output_type": "stream",
     "text": [
      "Test set accuracy: 88.3%\n"
     ]
    },
    {
     "name": "stderr",
     "output_type": "stream",
     "text": [
      "\n"
     ]
    }
   ],
   "source": [
    "print(f\"Train set accuracy: {100.0 * accuracy(model, train_loader):0.1f}%\")\n",
    "print(f\"Test set accuracy: {100.0 * accuracy(model, test_loader):0.1f}%\")"
   ]
  },
  {
   "cell_type": "markdown",
   "id": "de64cb94",
   "metadata": {
    "papermill": {
     "duration": 0.060838,
     "end_time": "2023-08-14T18:44:42.520209",
     "exception": false,
     "start_time": "2023-08-14T18:44:42.459371",
     "status": "completed"
    },
    "tags": []
   },
   "source": [
    "# Unlearning Algorithm\n",
    "In this section we develop the unlearning algorithm.\n",
    "\n",
    "In the previous section we created a split of the original training set into a retain set and a forget set. Typically, the retain set is much larger than the forget set. Here, we produce a split that is 10% forget set, and 90% retain set.\n",
    "\n",
    "The goal of an unlearning algorithm is to produce a model that approximates as much as possible the model trained solely on the retain set.\n",
    "\n",
    "Below is a simple unlearning algorithm provided for illustration purposes. We call this algorithm unlearning by fine-tuning. It starts from the pre-trained model and optimizes it for a few epochs on the retain set. This is a very simple unlearning algorithm, but it is not very computationally efficient, and we don't expect it to work very well for most metrics.\n",
    "\n",
    "To make a new entry in the competition, participants will submit an unlearning function with the same API as the one below. Note that the unlearning function takes as input a pre-trained model, a retain set, a forget set and an evaluation set (even though the fine-tuning algorithm below only uses the retain set and ignores the other datasets)."
   ]
  },
  {
   "cell_type": "code",
   "execution_count": 7,
   "id": "8fedc75e",
   "metadata": {
    "execution": {
     "iopub.execute_input": "2023-08-14T18:44:42.640246Z",
     "iopub.status.busy": "2023-08-14T18:44:42.639755Z",
     "iopub.status.idle": "2023-08-14T18:44:42.651925Z",
     "shell.execute_reply": "2023-08-14T18:44:42.650489Z"
    },
    "papermill": {
     "duration": 0.075076,
     "end_time": "2023-08-14T18:44:42.654680",
     "exception": false,
     "start_time": "2023-08-14T18:44:42.579604",
     "status": "completed"
    },
    "tags": []
   },
   "outputs": [],
   "source": [
    "def unlearning(net, retain, forget, validation):\n",
    "    \"\"\"Unlearning by fine-tuning.\n",
    "\n",
    "    Fine-tuning is a very simple algorithm that trains using only\n",
    "    the retain set.\n",
    "\n",
    "    Args:\n",
    "      net : nn.Module.\n",
    "        pre-trained model to use as base of unlearning.\n",
    "      retain : torch.utils.data.DataLoader.\n",
    "        Dataset loader for access to the retain set. This is the subset\n",
    "        of the training set that we don't want to forget.\n",
    "      forget : torch.utils.data.DataLoader.\n",
    "        Dataset loader for access to the forget set. This is the subset\n",
    "        of the training set that we want to forget. This method doesn't\n",
    "        make use of the forget set.\n",
    "      validation : torch.utils.data.DataLoader.\n",
    "        Dataset loader for access to the validation set. This method doesn't\n",
    "        make use of the validation set.\n",
    "    Returns:\n",
    "      net : updated model\n",
    "    \"\"\"\n",
    "    epochs = 5\n",
    "\n",
    "    criterion = nn.CrossEntropyLoss()\n",
    "    optimizer = optim.SGD(net.parameters(), lr=0.1, momentum=0.9, weight_decay=5e-4)\n",
    "    scheduler = torch.optim.lr_scheduler.CosineAnnealingLR(optimizer, T_max=epochs)\n",
    "    net.train()\n",
    "\n",
    "    for _ in range(epochs):\n",
    "        print(f'epoch {_}')\n",
    "        for inputs, targets in tqdm(retain):\n",
    "            inputs, targets = inputs.to(DEVICE), targets.to(DEVICE)\n",
    "            optimizer.zero_grad()\n",
    "            outputs = net(inputs)\n",
    "            loss = criterion(outputs, targets)\n",
    "            loss.backward()\n",
    "            optimizer.step()\n",
    "        scheduler.step()\n",
    "\n",
    "    net.eval()\n",
    "    return net"
   ]
  },
  {
   "cell_type": "code",
   "execution_count": 8,
   "id": "0b7698db",
   "metadata": {
    "execution": {
     "iopub.execute_input": "2023-08-14T18:44:42.772967Z",
     "iopub.status.busy": "2023-08-14T18:44:42.772547Z",
     "iopub.status.idle": "2023-08-14T18:44:43.002160Z",
     "shell.execute_reply": "2023-08-14T18:44:43.001137Z"
    },
    "papermill": {
     "duration": 0.291643,
     "end_time": "2023-08-14T18:44:43.004750",
     "exception": false,
     "start_time": "2023-08-14T18:44:42.713107",
     "status": "completed"
    },
    "scrolled": true,
    "tags": []
   },
   "outputs": [
    {
     "data": {
      "text/plain": [
       "ResNet(\n",
       "  (conv1): Conv2d(3, 64, kernel_size=(7, 7), stride=(2, 2), padding=(3, 3), bias=False)\n",
       "  (bn1): BatchNorm2d(64, eps=1e-05, momentum=0.1, affine=True, track_running_stats=True)\n",
       "  (relu): ReLU(inplace=True)\n",
       "  (maxpool): MaxPool2d(kernel_size=3, stride=2, padding=1, dilation=1, ceil_mode=False)\n",
       "  (layer1): Sequential(\n",
       "    (0): BasicBlock(\n",
       "      (conv1): Conv2d(64, 64, kernel_size=(3, 3), stride=(1, 1), padding=(1, 1), bias=False)\n",
       "      (bn1): BatchNorm2d(64, eps=1e-05, momentum=0.1, affine=True, track_running_stats=True)\n",
       "      (relu): ReLU(inplace=True)\n",
       "      (conv2): Conv2d(64, 64, kernel_size=(3, 3), stride=(1, 1), padding=(1, 1), bias=False)\n",
       "      (bn2): BatchNorm2d(64, eps=1e-05, momentum=0.1, affine=True, track_running_stats=True)\n",
       "    )\n",
       "    (1): BasicBlock(\n",
       "      (conv1): Conv2d(64, 64, kernel_size=(3, 3), stride=(1, 1), padding=(1, 1), bias=False)\n",
       "      (bn1): BatchNorm2d(64, eps=1e-05, momentum=0.1, affine=True, track_running_stats=True)\n",
       "      (relu): ReLU(inplace=True)\n",
       "      (conv2): Conv2d(64, 64, kernel_size=(3, 3), stride=(1, 1), padding=(1, 1), bias=False)\n",
       "      (bn2): BatchNorm2d(64, eps=1e-05, momentum=0.1, affine=True, track_running_stats=True)\n",
       "    )\n",
       "  )\n",
       "  (layer2): Sequential(\n",
       "    (0): BasicBlock(\n",
       "      (conv1): Conv2d(64, 128, kernel_size=(3, 3), stride=(2, 2), padding=(1, 1), bias=False)\n",
       "      (bn1): BatchNorm2d(128, eps=1e-05, momentum=0.1, affine=True, track_running_stats=True)\n",
       "      (relu): ReLU(inplace=True)\n",
       "      (conv2): Conv2d(128, 128, kernel_size=(3, 3), stride=(1, 1), padding=(1, 1), bias=False)\n",
       "      (bn2): BatchNorm2d(128, eps=1e-05, momentum=0.1, affine=True, track_running_stats=True)\n",
       "      (downsample): Sequential(\n",
       "        (0): Conv2d(64, 128, kernel_size=(1, 1), stride=(2, 2), bias=False)\n",
       "        (1): BatchNorm2d(128, eps=1e-05, momentum=0.1, affine=True, track_running_stats=True)\n",
       "      )\n",
       "    )\n",
       "    (1): BasicBlock(\n",
       "      (conv1): Conv2d(128, 128, kernel_size=(3, 3), stride=(1, 1), padding=(1, 1), bias=False)\n",
       "      (bn1): BatchNorm2d(128, eps=1e-05, momentum=0.1, affine=True, track_running_stats=True)\n",
       "      (relu): ReLU(inplace=True)\n",
       "      (conv2): Conv2d(128, 128, kernel_size=(3, 3), stride=(1, 1), padding=(1, 1), bias=False)\n",
       "      (bn2): BatchNorm2d(128, eps=1e-05, momentum=0.1, affine=True, track_running_stats=True)\n",
       "    )\n",
       "  )\n",
       "  (layer3): Sequential(\n",
       "    (0): BasicBlock(\n",
       "      (conv1): Conv2d(128, 256, kernel_size=(3, 3), stride=(2, 2), padding=(1, 1), bias=False)\n",
       "      (bn1): BatchNorm2d(256, eps=1e-05, momentum=0.1, affine=True, track_running_stats=True)\n",
       "      (relu): ReLU(inplace=True)\n",
       "      (conv2): Conv2d(256, 256, kernel_size=(3, 3), stride=(1, 1), padding=(1, 1), bias=False)\n",
       "      (bn2): BatchNorm2d(256, eps=1e-05, momentum=0.1, affine=True, track_running_stats=True)\n",
       "      (downsample): Sequential(\n",
       "        (0): Conv2d(128, 256, kernel_size=(1, 1), stride=(2, 2), bias=False)\n",
       "        (1): BatchNorm2d(256, eps=1e-05, momentum=0.1, affine=True, track_running_stats=True)\n",
       "      )\n",
       "    )\n",
       "    (1): BasicBlock(\n",
       "      (conv1): Conv2d(256, 256, kernel_size=(3, 3), stride=(1, 1), padding=(1, 1), bias=False)\n",
       "      (bn1): BatchNorm2d(256, eps=1e-05, momentum=0.1, affine=True, track_running_stats=True)\n",
       "      (relu): ReLU(inplace=True)\n",
       "      (conv2): Conv2d(256, 256, kernel_size=(3, 3), stride=(1, 1), padding=(1, 1), bias=False)\n",
       "      (bn2): BatchNorm2d(256, eps=1e-05, momentum=0.1, affine=True, track_running_stats=True)\n",
       "    )\n",
       "  )\n",
       "  (layer4): Sequential(\n",
       "    (0): BasicBlock(\n",
       "      (conv1): Conv2d(256, 512, kernel_size=(3, 3), stride=(2, 2), padding=(1, 1), bias=False)\n",
       "      (bn1): BatchNorm2d(512, eps=1e-05, momentum=0.1, affine=True, track_running_stats=True)\n",
       "      (relu): ReLU(inplace=True)\n",
       "      (conv2): Conv2d(512, 512, kernel_size=(3, 3), stride=(1, 1), padding=(1, 1), bias=False)\n",
       "      (bn2): BatchNorm2d(512, eps=1e-05, momentum=0.1, affine=True, track_running_stats=True)\n",
       "      (downsample): Sequential(\n",
       "        (0): Conv2d(256, 512, kernel_size=(1, 1), stride=(2, 2), bias=False)\n",
       "        (1): BatchNorm2d(512, eps=1e-05, momentum=0.1, affine=True, track_running_stats=True)\n",
       "      )\n",
       "    )\n",
       "    (1): BasicBlock(\n",
       "      (conv1): Conv2d(512, 512, kernel_size=(3, 3), stride=(1, 1), padding=(1, 1), bias=False)\n",
       "      (bn1): BatchNorm2d(512, eps=1e-05, momentum=0.1, affine=True, track_running_stats=True)\n",
       "      (relu): ReLU(inplace=True)\n",
       "      (conv2): Conv2d(512, 512, kernel_size=(3, 3), stride=(1, 1), padding=(1, 1), bias=False)\n",
       "      (bn2): BatchNorm2d(512, eps=1e-05, momentum=0.1, affine=True, track_running_stats=True)\n",
       "    )\n",
       "  )\n",
       "  (avgpool): AdaptiveAvgPool2d(output_size=(1, 1))\n",
       "  (fc): Linear(in_features=512, out_features=10, bias=True)\n",
       ")"
      ]
     },
     "execution_count": 8,
     "metadata": {},
     "output_type": "execute_result"
    }
   ],
   "source": [
    "ft_model = resnet18(weights=None, num_classes=10)\n",
    "ft_model.load_state_dict(weights_pretrained)\n",
    "ft_model.to(DEVICE)"
   ]
  },
  {
   "cell_type": "code",
   "execution_count": 9,
   "id": "88c04f3f",
   "metadata": {
    "execution": {
     "iopub.execute_input": "2023-08-14T18:44:43.124806Z",
     "iopub.status.busy": "2023-08-14T18:44:43.124406Z",
     "iopub.status.idle": "2023-08-14T19:08:12.394182Z",
     "shell.execute_reply": "2023-08-14T19:08:12.391195Z"
    },
    "papermill": {
     "duration": 1409.333055,
     "end_time": "2023-08-14T19:08:12.397263",
     "exception": false,
     "start_time": "2023-08-14T18:44:43.064208",
     "status": "completed"
    },
    "tags": []
   },
   "outputs": [
    {
     "name": "stdout",
     "output_type": "stream",
     "text": [
      "epoch 0\n"
     ]
    },
    {
     "name": "stderr",
     "output_type": "stream",
     "text": [
      "100%|██████████| 352/352 [04:39<00:00,  1.26it/s]\n"
     ]
    },
    {
     "name": "stdout",
     "output_type": "stream",
     "text": [
      "epoch 1\n"
     ]
    },
    {
     "name": "stderr",
     "output_type": "stream",
     "text": [
      "100%|██████████| 352/352 [04:39<00:00,  1.26it/s]\n"
     ]
    },
    {
     "name": "stdout",
     "output_type": "stream",
     "text": [
      "epoch 2\n"
     ]
    },
    {
     "name": "stderr",
     "output_type": "stream",
     "text": [
      "100%|██████████| 352/352 [04:39<00:00,  1.26it/s]\n"
     ]
    },
    {
     "name": "stdout",
     "output_type": "stream",
     "text": [
      "epoch 3\n"
     ]
    },
    {
     "name": "stderr",
     "output_type": "stream",
     "text": [
      "100%|██████████| 352/352 [04:42<00:00,  1.25it/s]\n"
     ]
    },
    {
     "name": "stdout",
     "output_type": "stream",
     "text": [
      "epoch 4\n"
     ]
    },
    {
     "name": "stderr",
     "output_type": "stream",
     "text": [
      "100%|██████████| 352/352 [04:47<00:00,  1.22it/s]\n"
     ]
    }
   ],
   "source": [
    "# Execute the unlearing routine. This might take a few minutes.\n",
    "# If run on colab, be sure to be running it on  an instance with GPUs\n",
    "ft_model = unlearning(ft_model, retain_loader, forget_loader, test_loader)"
   ]
  },
  {
   "cell_type": "code",
   "execution_count": 10,
   "id": "a3e06475",
   "metadata": {
    "execution": {
     "iopub.execute_input": "2023-08-14T19:08:12.912369Z",
     "iopub.status.busy": "2023-08-14T19:08:12.911923Z",
     "iopub.status.idle": "2023-08-14T19:09:22.703712Z",
     "shell.execute_reply": "2023-08-14T19:09:22.702115Z"
    },
    "papermill": {
     "duration": 70.0926,
     "end_time": "2023-08-14T19:09:22.706499",
     "exception": false,
     "start_time": "2023-08-14T19:08:12.613899",
     "status": "completed"
    },
    "tags": []
   },
   "outputs": [
    {
     "name": "stderr",
     "output_type": "stream",
     "text": [
      "100%|██████████| 352/352 [01:02<00:00,  5.63it/s]\n"
     ]
    },
    {
     "name": "stdout",
     "output_type": "stream",
     "text": [
      "Retain set accuracy: 98.3%\n"
     ]
    },
    {
     "name": "stderr",
     "output_type": "stream",
     "text": [
      "100%|██████████| 40/40 [00:07<00:00,  5.55it/s]"
     ]
    },
    {
     "name": "stdout",
     "output_type": "stream",
     "text": [
      "Test set accuracy: 83.5%\n"
     ]
    },
    {
     "name": "stderr",
     "output_type": "stream",
     "text": [
      "\n"
     ]
    }
   ],
   "source": [
    "print(f\"Retain set accuracy: {100.0 * accuracy(ft_model, retain_loader):0.1f}%\")\n",
    "print(f\"Test set accuracy: {100.0 * accuracy(ft_model, test_loader):0.1f}%\")"
   ]
  },
  {
   "cell_type": "code",
   "execution_count": 11,
   "id": "35d04e3f",
   "metadata": {
    "execution": {
     "iopub.execute_input": "2023-08-14T19:09:23.223484Z",
     "iopub.status.busy": "2023-08-14T19:09:23.222877Z",
     "iopub.status.idle": "2023-08-14T19:09:23.231231Z",
     "shell.execute_reply": "2023-08-14T19:09:23.230035Z"
    },
    "papermill": {
     "duration": 0.271809,
     "end_time": "2023-08-14T19:09:23.233562",
     "exception": false,
     "start_time": "2023-08-14T19:09:22.961753",
     "status": "completed"
    },
    "tags": []
   },
   "outputs": [],
   "source": [
    "def compute_losses(net, loader):\n",
    "    \"\"\"Auxiliary function to compute per-sample losses\"\"\"\n",
    "\n",
    "    criterion = nn.CrossEntropyLoss(reduction=\"none\")\n",
    "    all_losses = []\n",
    "\n",
    "    for inputs, targets in tqdm(loader):\n",
    "        inputs, targets = inputs.to(DEVICE), targets.to(DEVICE)\n",
    "\n",
    "        logits = net(inputs)\n",
    "        losses = criterion(logits, targets).numpy(force=True)\n",
    "        for l in losses:\n",
    "            all_losses.append(l)\n",
    "\n",
    "    return np.array(all_losses)"
   ]
  },
  {
   "cell_type": "code",
   "execution_count": 12,
   "id": "ed05653d",
   "metadata": {
    "execution": {
     "iopub.execute_input": "2023-08-14T19:09:23.748753Z",
     "iopub.status.busy": "2023-08-14T19:09:23.748309Z",
     "iopub.status.idle": "2023-08-14T19:10:41.323536Z",
     "shell.execute_reply": "2023-08-14T19:10:41.321890Z"
    },
    "papermill": {
     "duration": 77.833069,
     "end_time": "2023-08-14T19:10:41.326264",
     "exception": false,
     "start_time": "2023-08-14T19:09:23.493195",
     "status": "completed"
    },
    "tags": []
   },
   "outputs": [
    {
     "name": "stderr",
     "output_type": "stream",
     "text": [
      "100%|██████████| 391/391 [01:10<00:00,  5.55it/s]\n",
      "100%|██████████| 40/40 [00:07<00:00,  5.61it/s]\n"
     ]
    }
   ],
   "source": [
    "train_losses = compute_losses(model, train_loader)\n",
    "test_losses = compute_losses(model, test_loader)"
   ]
  },
  {
   "cell_type": "code",
   "execution_count": 13,
   "id": "f2607425",
   "metadata": {
    "execution": {
     "iopub.execute_input": "2023-08-14T19:10:41.918266Z",
     "iopub.status.busy": "2023-08-14T19:10:41.917221Z",
     "iopub.status.idle": "2023-08-14T19:10:43.403973Z",
     "shell.execute_reply": "2023-08-14T19:10:43.402838Z"
    },
    "papermill": {
     "duration": 1.78506,
     "end_time": "2023-08-14T19:10:43.406837",
     "exception": false,
     "start_time": "2023-08-14T19:10:41.621777",
     "status": "completed"
    },
    "tags": []
   },
   "outputs": [
    {
     "data": {
      "image/png": "[encoded data removed]",
      "text/plain": [
       "<Figure size 640x480 with 1 Axes>"
      ]
     },
     "metadata": {},
     "output_type": "display_data"
    }
   ],
   "source": [
    "# plot losses on train and test set\n",
    "plt.title(\"Losses on train and test set (pre-trained model)\")\n",
    "plt.hist(test_losses, density=True, alpha=0.5, bins=50, label=\"Test set\")\n",
    "plt.hist(train_losses, density=True, alpha=0.5, bins=50, label=\"Train set\")\n",
    "plt.xlabel(\"Loss\", fontsize=14)\n",
    "plt.ylabel(\"Frequency\", fontsize=14)\n",
    "plt.xlim((0, np.max(test_losses)))\n",
    "plt.yscale(\"log\")\n",
    "plt.legend(frameon=False, fontsize=14)\n",
    "ax = plt.gca()\n",
    "ax.spines[\"top\"].set_visible(False)\n",
    "ax.spines[\"right\"].set_visible(False)\n",
    "plt.show()"
   ]
  },
  {
   "cell_type": "code",
   "execution_count": 14,
   "id": "77ad8cab",
   "metadata": {
    "execution": {
     "iopub.execute_input": "2023-08-14T19:10:43.996375Z",
     "iopub.status.busy": "2023-08-14T19:10:43.995160Z",
     "iopub.status.idle": "2023-08-14T19:10:44.003614Z",
     "shell.execute_reply": "2023-08-14T19:10:44.002607Z"
    },
    "papermill": {
     "duration": 0.306247,
     "end_time": "2023-08-14T19:10:44.006274",
     "exception": false,
     "start_time": "2023-08-14T19:10:43.700027",
     "status": "completed"
    },
    "tags": []
   },
   "outputs": [],
   "source": [
    "def simple_mia(sample_loss, members, n_splits=10, random_state=0):\n",
    "    \"\"\"Computes cross-validation score of a membership inference attack.\n",
    "\n",
    "    Args:\n",
    "      sample_loss : array_like of shape (n,).\n",
    "        objective function evaluated on n samples.\n",
    "      members : array_like of shape (n,),\n",
    "        whether a sample was used for training.\n",
    "      n_splits: int\n",
    "        number of splits to use in the cross-validation.\n",
    "    Returns:\n",
    "      scores : array_like of size (n_splits,)\n",
    "    \"\"\"\n",
    "\n",
    "    unique_members = np.unique(members)\n",
    "    if not np.all(unique_members == np.array([0, 1])):\n",
    "        raise ValueError(\"members should only have 0 and 1s\")\n",
    "\n",
    "    attack_model = linear_model.LogisticRegression()\n",
    "    cv = model_selection.StratifiedShuffleSplit(\n",
    "        n_splits=n_splits, random_state=random_state\n",
    "    )\n",
    "    return model_selection.cross_val_score(\n",
    "        attack_model, sample_loss, members, cv=cv, scoring=\"accuracy\"\n",
    "    )"
   ]
  },
  {
   "cell_type": "code",
   "execution_count": 15,
   "id": "0ff105c1",
   "metadata": {
    "execution": {
     "iopub.execute_input": "2023-08-14T19:10:44.604289Z",
     "iopub.status.busy": "2023-08-14T19:10:44.603183Z",
     "iopub.status.idle": "2023-08-14T19:10:52.042584Z",
     "shell.execute_reply": "2023-08-14T19:10:52.040954Z"
    },
    "papermill": {
     "duration": 7.73957,
     "end_time": "2023-08-14T19:10:52.045335",
     "exception": false,
     "start_time": "2023-08-14T19:10:44.305765",
     "status": "completed"
    },
    "tags": []
   },
   "outputs": [
    {
     "name": "stderr",
     "output_type": "stream",
     "text": [
      "100%|██████████| 40/40 [00:07<00:00,  5.54it/s]\n"
     ]
    },
    {
     "name": "stdout",
     "output_type": "stream",
     "text": [
      "The MIA has an accuracy of 0.577 on forgotten vs unseen images\n"
     ]
    }
   ],
   "source": [
    "forget_losses = compute_losses(model, forget_loader)\n",
    "\n",
    "# Since we have more forget losses than test losses, sub-sample them, to have a class-balanced dataset.\n",
    "np.random.shuffle(forget_losses)\n",
    "forget_losses = forget_losses[: len(test_losses)]\n",
    "\n",
    "samples_mia = np.concatenate((test_losses, forget_losses)).reshape((-1, 1))\n",
    "labels_mia = [0] * len(test_losses) + [1] * len(forget_losses)\n",
    "\n",
    "mia_scores = simple_mia(samples_mia, labels_mia)\n",
    "\n",
    "print(\n",
    "    f\"The MIA has an accuracy of {mia_scores.mean():.3f} on forgotten vs unseen images\"\n",
    ")"
   ]
  },
  {
   "cell_type": "code",
   "execution_count": 16,
   "id": "e9b0edb4",
   "metadata": {
    "execution": {
     "iopub.execute_input": "2023-08-14T19:10:52.738411Z",
     "iopub.status.busy": "2023-08-14T19:10:52.737158Z",
     "iopub.status.idle": "2023-08-14T19:11:07.623260Z",
     "shell.execute_reply": "2023-08-14T19:11:07.621040Z"
    },
    "papermill": {
     "duration": 15.190852,
     "end_time": "2023-08-14T19:11:07.626020",
     "exception": false,
     "start_time": "2023-08-14T19:10:52.435168",
     "status": "completed"
    },
    "tags": []
   },
   "outputs": [
    {
     "name": "stderr",
     "output_type": "stream",
     "text": [
      "100%|██████████| 40/40 [00:07<00:00,  5.31it/s]\n",
      "100%|██████████| 40/40 [00:07<00:00,  5.46it/s]\n"
     ]
    }
   ],
   "source": [
    "ft_forget_losses = compute_losses(ft_model, forget_loader)\n",
    "ft_test_losses = compute_losses(ft_model, test_loader)\n",
    "\n",
    "# make sure we have a balanced dataset for the MIA\n",
    "assert len(ft_test_losses) == len(ft_forget_losses)\n",
    "\n",
    "ft_samples_mia = np.concatenate((ft_test_losses, ft_forget_losses)).reshape((-1, 1))\n",
    "labels_mia = [0] * len(ft_test_losses) + [1] * len(ft_forget_losses)"
   ]
  },
  {
   "cell_type": "code",
   "execution_count": 17,
   "id": "c1084541",
   "metadata": {
    "execution": {
     "iopub.execute_input": "2023-08-14T19:11:08.236314Z",
     "iopub.status.busy": "2023-08-14T19:11:08.235099Z",
     "iopub.status.idle": "2023-08-14T19:11:08.407977Z",
     "shell.execute_reply": "2023-08-14T19:11:08.406850Z"
    },
    "papermill": {
     "duration": 0.481163,
     "end_time": "2023-08-14T19:11:08.410445",
     "exception": false,
     "start_time": "2023-08-14T19:11:07.929282",
     "status": "completed"
    },
    "tags": []
   },
   "outputs": [
    {
     "name": "stdout",
     "output_type": "stream",
     "text": [
      "The MIA has an accuracy of 0.513 on forgotten vs unseen images\n"
     ]
    }
   ],
   "source": [
    "ft_mia_scores = simple_mia(ft_samples_mia, labels_mia)\n",
    "\n",
    "print(\n",
    "    f\"The MIA has an accuracy of {ft_mia_scores.mean():.3f} on forgotten vs unseen images\"\n",
    ")"
   ]
  },
  {
   "cell_type": "code",
   "execution_count": 18,
   "id": "e6cb8f45",
   "metadata": {
    "execution": {
     "iopub.execute_input": "2023-08-14T19:11:09.015946Z",
     "iopub.status.busy": "2023-08-14T19:11:09.014782Z",
     "iopub.status.idle": "2023-08-14T19:11:10.661751Z",
     "shell.execute_reply": "2023-08-14T19:11:10.660351Z"
    },
    "papermill": {
     "duration": 1.950911,
     "end_time": "2023-08-14T19:11:10.664271",
     "exception": false,
     "start_time": "2023-08-14T19:11:08.713360",
     "status": "completed"
    },
    "tags": []
   },
   "outputs": [
    {
     "data": {
      "image/png": "[encoded data removed]",
      "text/plain": [
       "<Figure size 1600x600 with 2 Axes>"
      ]
     },
     "metadata": {},
     "output_type": "display_data"
    }
   ],
   "source": [
    "fig, (ax1, ax2) = plt.subplots(1, 2, figsize=(16, 6))\n",
    "\n",
    "ax1.set_title(f\"Pre-trained model.\\nAttack accuracy: {mia_scores.mean():0.2f}\")\n",
    "ax1.hist(test_losses, density=True, alpha=0.5, bins=50, label=\"Test set\")\n",
    "ax1.hist(forget_losses, density=True, alpha=0.5, bins=50, label=\"Forget set\")\n",
    "\n",
    "ax2.set_title(\n",
    "    f\"Unlearned by fine-tuning.\\nAttack accuracy: {ft_mia_scores.mean():0.2f}\"\n",
    ")\n",
    "ax2.hist(ft_test_losses, density=True, alpha=0.5, bins=50, label=\"Test set\")\n",
    "ax2.hist(ft_forget_losses, density=True, alpha=0.5, bins=50, label=\"Forget set\")\n",
    "\n",
    "ax1.set_xlabel(\"Loss\")\n",
    "ax2.set_xlabel(\"Loss\")\n",
    "ax1.set_ylabel(\"Frequency\")\n",
    "ax1.set_yscale(\"log\")\n",
    "ax2.set_yscale(\"log\")\n",
    "ax1.set_xlim((0, np.max(test_losses)))\n",
    "ax2.set_xlim((0, np.max(test_losses)))\n",
    "for ax in (ax1, ax2):\n",
    "    ax.spines[\"top\"].set_visible(False)\n",
    "    ax.spines[\"right\"].set_visible(False)\n",
    "ax1.legend(frameon=False, fontsize=14)\n",
    "plt.show()"
   ]
  },
  {
   "cell_type": "markdown",
   "id": "e9c79ed1",
   "metadata": {
    "papermill": {
     "duration": 0.303339,
     "end_time": "2023-08-14T19:11:11.275466",
     "exception": false,
     "start_time": "2023-08-14T19:11:10.972127",
     "status": "completed"
    },
    "tags": []
   },
   "source": [
    "## Load Re-trained model"
   ]
  },
  {
   "cell_type": "code",
   "execution_count": 19,
   "id": "fc352fae",
   "metadata": {
    "execution": {
     "iopub.execute_input": "2023-08-14T19:11:11.894142Z",
     "iopub.status.busy": "2023-08-14T19:11:11.892952Z",
     "iopub.status.idle": "2023-08-14T19:12:25.473779Z",
     "shell.execute_reply": "2023-08-14T19:12:25.472185Z"
    },
    "papermill": {
     "duration": 73.898671,
     "end_time": "2023-08-14T19:12:25.477358",
     "exception": false,
     "start_time": "2023-08-14T19:11:11.578687",
     "status": "completed"
    },
    "tags": []
   },
   "outputs": [
    {
     "name": "stderr",
     "output_type": "stream",
     "text": [
      "100%|██████████| 352/352 [01:03<00:00,  5.57it/s]\n"
     ]
    },
    {
     "name": "stdout",
     "output_type": "stream",
     "text": [
      "Retain set accuracy: 99.5%\n"
     ]
    },
    {
     "name": "stderr",
     "output_type": "stream",
     "text": [
      "100%|██████████| 40/40 [00:07<00:00,  5.48it/s]"
     ]
    },
    {
     "name": "stdout",
     "output_type": "stream",
     "text": [
      "Forget set accuracy: 88.2%\n"
     ]
    },
    {
     "name": "stderr",
     "output_type": "stream",
     "text": [
      "\n"
     ]
    }
   ],
   "source": [
    "# weights_pretrained = torch.load('/kaggle/input/unlearning-cifar10-resnet18-weights/unlearning-cifar10-resnet18-weights/retrain_weights_resnet18_cifar10.pth', map_location=DEVICE)\n",
    "\n",
    "# # load model with pre-trained weights\n",
    "# rt_model = resnet18(weights=None, num_classes=10)\n",
    "# rt_model.load_state_dict(weights_pretrained)\n",
    "# rt_model.to(DEVICE)\n",
    "# rt_model.eval()\n",
    "\n",
    "# download weights of a model trained exclusively on the retain set\n",
    "local_path = \"retrain_weights_resnet18_cifar10.pth\"\n",
    "if not os.path.exists(local_path):\n",
    "    response = requests.get(\n",
    "        \"https://unlearning-challenge.s3.eu-west-1.amazonaws.com/cifar10/\" + local_path\n",
    "    )\n",
    "    open(local_path, \"wb\").write(response.content)\n",
    "\n",
    "weights_pretrained = torch.load(local_path, map_location=DEVICE)\n",
    "\n",
    "# load model with pre-trained weights\n",
    "rt_model = resnet18(weights=None, num_classes=10)\n",
    "rt_model.load_state_dict(weights_pretrained)\n",
    "rt_model.to(DEVICE)\n",
    "rt_model.eval()\n",
    "\n",
    "# print its accuracy on retain and forget set\n",
    "print(f\"Retain set accuracy: {100.0 * accuracy(rt_model, retain_loader):0.1f}%\")\n",
    "print(f\"Forget set accuracy: {100.0 * accuracy(rt_model, forget_loader):0.1f}%\")"
   ]
  },
  {
   "cell_type": "code",
   "execution_count": 20,
   "id": "3d8a234b",
   "metadata": {
    "execution": {
     "iopub.execute_input": "2023-08-14T19:12:26.162568Z",
     "iopub.status.busy": "2023-08-14T19:12:26.161253Z",
     "iopub.status.idle": "2023-08-14T19:12:41.027852Z",
     "shell.execute_reply": "2023-08-14T19:12:41.026168Z"
    },
    "papermill": {
     "duration": 15.211951,
     "end_time": "2023-08-14T19:12:41.030861",
     "exception": false,
     "start_time": "2023-08-14T19:12:25.818910",
     "status": "completed"
    },
    "tags": []
   },
   "outputs": [
    {
     "name": "stderr",
     "output_type": "stream",
     "text": [
      "100%|██████████| 40/40 [00:07<00:00,  5.50it/s]\n",
      "100%|██████████| 40/40 [00:07<00:00,  5.28it/s]\n"
     ]
    }
   ],
   "source": [
    "rt_test_losses = compute_losses(rt_model, test_loader)\n",
    "rt_forget_losses = compute_losses(rt_model, forget_loader)\n",
    "\n",
    "rt_samples_mia = np.concatenate((rt_test_losses, rt_forget_losses)).reshape((-1, 1))\n",
    "labels_mia = [0] * len(rt_test_losses) + [1] * len(rt_forget_losses)"
   ]
  },
  {
   "cell_type": "code",
   "execution_count": 21,
   "id": "6141cae7",
   "metadata": {
    "execution": {
     "iopub.execute_input": "2023-08-14T19:12:41.733284Z",
     "iopub.status.busy": "2023-08-14T19:12:41.732040Z",
     "iopub.status.idle": "2023-08-14T19:12:41.910548Z",
     "shell.execute_reply": "2023-08-14T19:12:41.909144Z"
    },
    "papermill": {
     "duration": 0.529412,
     "end_time": "2023-08-14T19:12:41.913177",
     "exception": false,
     "start_time": "2023-08-14T19:12:41.383765",
     "status": "completed"
    },
    "tags": []
   },
   "outputs": [
    {
     "name": "stdout",
     "output_type": "stream",
     "text": [
      "The MIA has an accuracy of 0.496 on forgotten vs unseen images\n"
     ]
    }
   ],
   "source": [
    "rt_mia_scores = simple_mia(rt_samples_mia, labels_mia)\n",
    "\n",
    "print(\n",
    "    f\"The MIA has an accuracy of {rt_mia_scores.mean():.3f} on forgotten vs unseen images\"\n",
    ")"
   ]
  },
  {
   "cell_type": "code",
   "execution_count": 22,
   "id": "8844bd34",
   "metadata": {
    "execution": {
     "iopub.execute_input": "2023-08-14T19:12:42.636526Z",
     "iopub.status.busy": "2023-08-14T19:12:42.636132Z",
     "iopub.status.idle": "2023-08-14T19:12:44.223860Z",
     "shell.execute_reply": "2023-08-14T19:12:44.222624Z"
    },
    "papermill": {
     "duration": 1.940057,
     "end_time": "2023-08-14T19:12:44.226433",
     "exception": false,
     "start_time": "2023-08-14T19:12:42.286376",
     "status": "completed"
    },
    "tags": []
   },
   "outputs": [
    {
     "data": {
      "image/png": "[encoded data removed]",
      "text/plain": [
       "<Figure size 1600x600 with 2 Axes>"
      ]
     },
     "metadata": {},
     "output_type": "display_data"
    }
   ],
   "source": [
    "fig, (ax1, ax2) = plt.subplots(1, 2, figsize=(16, 6))\n",
    "\n",
    "ax1.set_title(f\"Re-trained model.\\nAttack accuracy: {rt_mia_scores.mean():0.2f}\")\n",
    "ax1.hist(rt_test_losses, density=True, alpha=0.5, bins=50, label=\"Test set\")\n",
    "ax1.hist(rt_forget_losses, density=True, alpha=0.5, bins=50, label=\"Forget set\")\n",
    "\n",
    "ax2.set_title(\n",
    "    f\"Unlearned by fine-tuning.\\nAttack accuracy: {ft_mia_scores.mean():0.2f}\"\n",
    ")\n",
    "ax2.hist(ft_test_losses, density=True, alpha=0.5, bins=50, label=\"Test set\")\n",
    "ax2.hist(ft_forget_losses, density=True, alpha=0.5, bins=50, label=\"Forget set\")\n",
    "\n",
    "ax1.set_xlabel(\"Loss\")\n",
    "ax2.set_xlabel(\"Loss\")\n",
    "ax1.set_ylabel(\"Frequency\")\n",
    "ax1.set_yscale(\"log\")\n",
    "ax2.set_yscale(\"log\")\n",
    "ax1.set_xlim((0, np.max(test_losses)))\n",
    "ax2.set_xlim((0, np.max(test_losses)))\n",
    "for ax in (ax1, ax2):\n",
    "    ax.spines[\"top\"].set_visible(False)\n",
    "    ax.spines[\"right\"].set_visible(False)\n",
    "ax1.legend(frameon=False, fontsize=14)\n",
    "plt.show()"
   ]
  },
  {
   "cell_type": "markdown",
   "id": "65e8f5dc",
   "metadata": {
    "papermill": {
     "duration": 0.421338,
     "end_time": "2023-08-14T19:12:45.001262",
     "exception": false,
     "start_time": "2023-08-14T19:12:44.579924",
     "status": "completed"
    },
    "tags": []
   },
   "source": [
    "# Attempts:"
   ]
  },
  {
   "cell_type": "code",
   "execution_count": 23,
   "id": "c2e88ad7",
   "metadata": {
    "execution": {
     "iopub.execute_input": "2023-08-14T19:12:45.710530Z",
     "iopub.status.busy": "2023-08-14T19:12:45.710105Z",
     "iopub.status.idle": "2023-08-14T19:12:45.933987Z",
     "shell.execute_reply": "2023-08-14T19:12:45.932809Z"
    },
    "papermill": {
     "duration": 0.573464,
     "end_time": "2023-08-14T19:12:45.936365",
     "exception": false,
     "start_time": "2023-08-14T19:12:45.362901",
     "status": "completed"
    },
    "scrolled": true,
    "tags": []
   },
   "outputs": [
    {
     "data": {
      "text/plain": [
       "ResNet(\n",
       "  (conv1): Conv2d(3, 64, kernel_size=(7, 7), stride=(2, 2), padding=(3, 3), bias=False)\n",
       "  (bn1): BatchNorm2d(64, eps=1e-05, momentum=0.1, affine=True, track_running_stats=True)\n",
       "  (relu): ReLU(inplace=True)\n",
       "  (maxpool): MaxPool2d(kernel_size=3, stride=2, padding=1, dilation=1, ceil_mode=False)\n",
       "  (layer1): Sequential(\n",
       "    (0): BasicBlock(\n",
       "      (conv1): Conv2d(64, 64, kernel_size=(3, 3), stride=(1, 1), padding=(1, 1), bias=False)\n",
       "      (bn1): BatchNorm2d(64, eps=1e-05, momentum=0.1, affine=True, track_running_stats=True)\n",
       "      (relu): ReLU(inplace=True)\n",
       "      (conv2): Conv2d(64, 64, kernel_size=(3, 3), stride=(1, 1), padding=(1, 1), bias=False)\n",
       "      (bn2): BatchNorm2d(64, eps=1e-05, momentum=0.1, affine=True, track_running_stats=True)\n",
       "    )\n",
       "    (1): BasicBlock(\n",
       "      (conv1): Conv2d(64, 64, kernel_size=(3, 3), stride=(1, 1), padding=(1, 1), bias=False)\n",
       "      (bn1): BatchNorm2d(64, eps=1e-05, momentum=0.1, affine=True, track_running_stats=True)\n",
       "      (relu): ReLU(inplace=True)\n",
       "      (conv2): Conv2d(64, 64, kernel_size=(3, 3), stride=(1, 1), padding=(1, 1), bias=False)\n",
       "      (bn2): BatchNorm2d(64, eps=1e-05, momentum=0.1, affine=True, track_running_stats=True)\n",
       "    )\n",
       "  )\n",
       "  (layer2): Sequential(\n",
       "    (0): BasicBlock(\n",
       "      (conv1): Conv2d(64, 128, kernel_size=(3, 3), stride=(2, 2), padding=(1, 1), bias=False)\n",
       "      (bn1): BatchNorm2d(128, eps=1e-05, momentum=0.1, affine=True, track_running_stats=True)\n",
       "      (relu): ReLU(inplace=True)\n",
       "      (conv2): Conv2d(128, 128, kernel_size=(3, 3), stride=(1, 1), padding=(1, 1), bias=False)\n",
       "      (bn2): BatchNorm2d(128, eps=1e-05, momentum=0.1, affine=True, track_running_stats=True)\n",
       "      (downsample): Sequential(\n",
       "        (0): Conv2d(64, 128, kernel_size=(1, 1), stride=(2, 2), bias=False)\n",
       "        (1): BatchNorm2d(128, eps=1e-05, momentum=0.1, affine=True, track_running_stats=True)\n",
       "      )\n",
       "    )\n",
       "    (1): BasicBlock(\n",
       "      (conv1): Conv2d(128, 128, kernel_size=(3, 3), stride=(1, 1), padding=(1, 1), bias=False)\n",
       "      (bn1): BatchNorm2d(128, eps=1e-05, momentum=0.1, affine=True, track_running_stats=True)\n",
       "      (relu): ReLU(inplace=True)\n",
       "      (conv2): Conv2d(128, 128, kernel_size=(3, 3), stride=(1, 1), padding=(1, 1), bias=False)\n",
       "      (bn2): BatchNorm2d(128, eps=1e-05, momentum=0.1, affine=True, track_running_stats=True)\n",
       "    )\n",
       "  )\n",
       "  (layer3): Sequential(\n",
       "    (0): BasicBlock(\n",
       "      (conv1): Conv2d(128, 256, kernel_size=(3, 3), stride=(2, 2), padding=(1, 1), bias=False)\n",
       "      (bn1): BatchNorm2d(256, eps=1e-05, momentum=0.1, affine=True, track_running_stats=True)\n",
       "      (relu): ReLU(inplace=True)\n",
       "      (conv2): Conv2d(256, 256, kernel_size=(3, 3), stride=(1, 1), padding=(1, 1), bias=False)\n",
       "      (bn2): BatchNorm2d(256, eps=1e-05, momentum=0.1, affine=True, track_running_stats=True)\n",
       "      (downsample): Sequential(\n",
       "        (0): Conv2d(128, 256, kernel_size=(1, 1), stride=(2, 2), bias=False)\n",
       "        (1): BatchNorm2d(256, eps=1e-05, momentum=0.1, affine=True, track_running_stats=True)\n",
       "      )\n",
       "    )\n",
       "    (1): BasicBlock(\n",
       "      (conv1): Conv2d(256, 256, kernel_size=(3, 3), stride=(1, 1), padding=(1, 1), bias=False)\n",
       "      (bn1): BatchNorm2d(256, eps=1e-05, momentum=0.1, affine=True, track_running_stats=True)\n",
       "      (relu): ReLU(inplace=True)\n",
       "      (conv2): Conv2d(256, 256, kernel_size=(3, 3), stride=(1, 1), padding=(1, 1), bias=False)\n",
       "      (bn2): BatchNorm2d(256, eps=1e-05, momentum=0.1, affine=True, track_running_stats=True)\n",
       "    )\n",
       "  )\n",
       "  (layer4): Sequential(\n",
       "    (0): BasicBlock(\n",
       "      (conv1): Conv2d(256, 512, kernel_size=(3, 3), stride=(2, 2), padding=(1, 1), bias=False)\n",
       "      (bn1): BatchNorm2d(512, eps=1e-05, momentum=0.1, affine=True, track_running_stats=True)\n",
       "      (relu): ReLU(inplace=True)\n",
       "      (conv2): Conv2d(512, 512, kernel_size=(3, 3), stride=(1, 1), padding=(1, 1), bias=False)\n",
       "      (bn2): BatchNorm2d(512, eps=1e-05, momentum=0.1, affine=True, track_running_stats=True)\n",
       "      (downsample): Sequential(\n",
       "        (0): Conv2d(256, 512, kernel_size=(1, 1), stride=(2, 2), bias=False)\n",
       "        (1): BatchNorm2d(512, eps=1e-05, momentum=0.1, affine=True, track_running_stats=True)\n",
       "      )\n",
       "    )\n",
       "    (1): BasicBlock(\n",
       "      (conv1): Conv2d(512, 512, kernel_size=(3, 3), stride=(1, 1), padding=(1, 1), bias=False)\n",
       "      (bn1): BatchNorm2d(512, eps=1e-05, momentum=0.1, affine=True, track_running_stats=True)\n",
       "      (relu): ReLU(inplace=True)\n",
       "      (conv2): Conv2d(512, 512, kernel_size=(3, 3), stride=(1, 1), padding=(1, 1), bias=False)\n",
       "      (bn2): BatchNorm2d(512, eps=1e-05, momentum=0.1, affine=True, track_running_stats=True)\n",
       "    )\n",
       "  )\n",
       "  (avgpool): AdaptiveAvgPool2d(output_size=(1, 1))\n",
       "  (fc): Linear(in_features=512, out_features=10, bias=True)\n",
       ")"
      ]
     },
     "execution_count": 23,
     "metadata": {},
     "output_type": "execute_result"
    }
   ],
   "source": [
    "# Input model load\n",
    "in_model = resnet18(weights=None, num_classes=10)\n",
    "in_model.load_state_dict(weights_pretrained)\n",
    "in_model.to(DEVICE)"
   ]
  },
  {
   "cell_type": "markdown",
   "id": "3318c731",
   "metadata": {
    "papermill": {
     "duration": 0.349848,
     "end_time": "2023-08-14T19:12:46.635791",
     "exception": false,
     "start_time": "2023-08-14T19:12:46.285943",
     "status": "completed"
    },
    "tags": []
   },
   "source": [
    "## Attempt v0.0\n",
    "Just a test to see what happens when you multiply the loss value by -1 when training using the forget dataset"
   ]
  },
  {
   "cell_type": "code",
   "execution_count": 24,
   "id": "38f5da53",
   "metadata": {
    "execution": {
     "iopub.execute_input": "2023-08-14T19:12:47.334348Z",
     "iopub.status.busy": "2023-08-14T19:12:47.333931Z",
     "iopub.status.idle": "2023-08-14T19:12:47.351460Z",
     "shell.execute_reply": "2023-08-14T19:12:47.350117Z"
    },
    "papermill": {
     "duration": 0.368892,
     "end_time": "2023-08-14T19:12:47.354246",
     "exception": false,
     "start_time": "2023-08-14T19:12:46.985354",
     "status": "completed"
    },
    "tags": []
   },
   "outputs": [],
   "source": [
    "def repair_model(net, retain, itter):\n",
    "    \"\"\"Repairs the given model using a couple itterations\n",
    "    of the retain dataset\n",
    "    \n",
    "    Args:\n",
    "        net: nn.Module\n",
    "            degraded model\n",
    "        retain : torch.utils.data.DataLoader.\n",
    "            Dataset loader for access to the retain set. This is the subset\n",
    "            of the training set that we don't want to forget.\n",
    "        itter: int\n",
    "            Number of iterations to repair the model for\n",
    "    \n",
    "    Returns:\n",
    "        net: nn.Module\n",
    "            repaired model\n",
    "    \n",
    "    \"\"\"\n",
    "    \n",
    "    epochs = 2\n",
    "\n",
    "    criterion = nn.CrossEntropyLoss()\n",
    "    optimizer = optim.SGD(net.parameters(), lr=0.1, momentum=0.9, weight_decay=5e-4)\n",
    "    scheduler = torch.optim.lr_scheduler.CosineAnnealingLR(optimizer, T_max=epochs)\n",
    "    net.train()\n",
    "\n",
    "    for _ in range(epochs):\n",
    "        print(f'epoch {_}')\n",
    "        for inputs, targets in tqdm(retain):\n",
    "            inputs, targets = inputs.to(DEVICE), targets.to(DEVICE)\n",
    "            optimizer.zero_grad()\n",
    "            outputs = net(inputs)\n",
    "            loss = criterion(outputs, targets)\n",
    "            loss.backward()\n",
    "            optimizer.step()\n",
    "        scheduler.step()\n",
    "\n",
    "    net.eval()\n",
    "    return net\n",
    "    \n",
    "def degrade_model(net, forget, epoch):\n",
    "    criterion = nn.CrossEntropyLoss()\n",
    "    optimizer = optim.Adam(net.parameters(), lr=0.001)\n",
    "#     optimizer = optim.SGD(net.parameters(), lr=0.001, momentum=0.009, weight_decay=5e-4)\n",
    "#     scheduler = torch.optim.lr_scheduler.CosineAnnealingLR(optimizer, T_max=epoch)\n",
    "    net.train()\n",
    "    \n",
    "    for i in tqdm(range(epoch)):\n",
    "        inputs, targets = next(iter(forget))\n",
    "        inputs, targets = inputs.to(DEVICE), targets.to(DEVICE)\n",
    "        optimizer.zero_grad()\n",
    "        outputs = net(inputs)\n",
    "        loss = -1 * criterion(outputs, targets)\n",
    "        loss.backward()\n",
    "        optimizer.step()\n",
    "#     scheduler.step()\n",
    "\n",
    "    net.eval()\n",
    "    return net\n",
    "    \n",
    "    \n",
    "    \n",
    "def unlearner_v0(net, retain, forget, validation):\n",
    "    \"\"\"Unlearning through noise.\n",
    "\n",
    "    Args:\n",
    "        net : nn.Module.\n",
    "            pre-trained model to use as base of unlearning.\n",
    "        retain : torch.utils.data.DataLoader.\n",
    "            Dataset loader for access to the retain set. This is the subset\n",
    "            of the training set that we don't want to forget.\n",
    "        forget : torch.utils.data.DataLoader.\n",
    "            Dataset loader for access to the forget set. This is the subset\n",
    "            of the training set that we want to forget. This method doesn't\n",
    "            make use of the forget set.\n",
    "        validation : torch.utils.data.DataLoader.\n",
    "            Dataset loader for access to the validation set. This method doesn't\n",
    "            make use of the validation set.\n",
    "            \n",
    "        f_size : int\n",
    "            The size of the mini-batches used for the training of the noisy image\n",
    "        \n",
    "    Returns:\n",
    "          new_net : nn.Module\n",
    "              Updated model\n",
    "    \"\"\"\n",
    "    \n",
    "    # Train the noise layer on the forget dataset sample\n",
    "    inputs, targets = next(iter(forget))\n",
    "    \n",
    "    for j in range(3):\n",
    "        print(f'itteration {j}')\n",
    "        # Train the network using the noise layer\n",
    "        net = degrade_model(net.train(), forget, 5)\n",
    "\n",
    "        # Repair by training with sample of retain dataset sample\n",
    "        net = repair_model(net.train(), retain, 5)\n",
    "    \n",
    "\n",
    "    return net"
   ]
  },
  {
   "cell_type": "code",
   "execution_count": 25,
   "id": "3d8119f4",
   "metadata": {
    "execution": {
     "iopub.execute_input": "2023-08-14T19:12:48.060914Z",
     "iopub.status.busy": "2023-08-14T19:12:48.060260Z",
     "iopub.status.idle": "2023-08-14T19:41:44.827848Z",
     "shell.execute_reply": "2023-08-14T19:41:44.825971Z"
    },
    "papermill": {
     "duration": 1737.254103,
     "end_time": "2023-08-14T19:41:44.959877",
     "exception": false,
     "start_time": "2023-08-14T19:12:47.705774",
     "status": "completed"
    },
    "scrolled": true,
    "tags": []
   },
   "outputs": [
    {
     "name": "stdout",
     "output_type": "stream",
     "text": [
      "itteration 0\n"
     ]
    },
    {
     "name": "stderr",
     "output_type": "stream",
     "text": [
      "100%|██████████| 5/5 [00:05<00:00,  1.11s/it]\n"
     ]
    },
    {
     "name": "stdout",
     "output_type": "stream",
     "text": [
      "epoch 0\n"
     ]
    },
    {
     "name": "stderr",
     "output_type": "stream",
     "text": [
      "100%|██████████| 352/352 [04:51<00:00,  1.21it/s]\n"
     ]
    },
    {
     "name": "stdout",
     "output_type": "stream",
     "text": [
      "epoch 1\n"
     ]
    },
    {
     "name": "stderr",
     "output_type": "stream",
     "text": [
      "100%|██████████| 352/352 [04:54<00:00,  1.20it/s]\n"
     ]
    },
    {
     "name": "stdout",
     "output_type": "stream",
     "text": [
      "itteration 1\n"
     ]
    },
    {
     "name": "stderr",
     "output_type": "stream",
     "text": [
      "100%|██████████| 5/5 [00:05<00:00,  1.12s/it]\n"
     ]
    },
    {
     "name": "stdout",
     "output_type": "stream",
     "text": [
      "epoch 0\n"
     ]
    },
    {
     "name": "stderr",
     "output_type": "stream",
     "text": [
      "100%|██████████| 352/352 [04:43<00:00,  1.24it/s]\n"
     ]
    },
    {
     "name": "stdout",
     "output_type": "stream",
     "text": [
      "epoch 1\n"
     ]
    },
    {
     "name": "stderr",
     "output_type": "stream",
     "text": [
      "100%|██████████| 352/352 [04:43<00:00,  1.24it/s]\n"
     ]
    },
    {
     "name": "stdout",
     "output_type": "stream",
     "text": [
      "itteration 2\n"
     ]
    },
    {
     "name": "stderr",
     "output_type": "stream",
     "text": [
      "100%|██████████| 5/5 [00:05<00:00,  1.12s/it]\n"
     ]
    },
    {
     "name": "stdout",
     "output_type": "stream",
     "text": [
      "epoch 0\n"
     ]
    },
    {
     "name": "stderr",
     "output_type": "stream",
     "text": [
      "100%|██████████| 352/352 [04:46<00:00,  1.23it/s]\n"
     ]
    },
    {
     "name": "stdout",
     "output_type": "stream",
     "text": [
      "epoch 1\n"
     ]
    },
    {
     "name": "stderr",
     "output_type": "stream",
     "text": [
      "100%|██████████| 352/352 [04:41<00:00,  1.25it/s]\n"
     ]
    }
   ],
   "source": [
    "import copy\n",
    "model_copy = copy.deepcopy(in_model)\n",
    "\n",
    "v0_model = unlearner_v0(model_copy, retain_loader, forget_loader, test_loader)"
   ]
  },
  {
   "cell_type": "code",
   "execution_count": 26,
   "id": "ef9e4dd7",
   "metadata": {
    "execution": {
     "iopub.execute_input": "2023-08-14T19:41:46.069778Z",
     "iopub.status.busy": "2023-08-14T19:41:46.068421Z",
     "iopub.status.idle": "2023-08-14T19:46:51.069794Z",
     "shell.execute_reply": "2023-08-14T19:46:51.068041Z"
    },
    "papermill": {
     "duration": 305.555477,
     "end_time": "2023-08-14T19:46:51.073413",
     "exception": false,
     "start_time": "2023-08-14T19:41:45.517936",
     "status": "completed"
    },
    "scrolled": true,
    "tags": []
   },
   "outputs": [
    {
     "name": "stderr",
     "output_type": "stream",
     "text": [
      "100%|██████████| 391/391 [01:14<00:00,  5.28it/s]\n"
     ]
    },
    {
     "name": "stdout",
     "output_type": "stream",
     "text": [
      "Train set accuracy: 96.0%\n"
     ]
    },
    {
     "name": "stderr",
     "output_type": "stream",
     "text": [
      "100%|██████████| 40/40 [00:07<00:00,  5.29it/s]\n"
     ]
    },
    {
     "name": "stdout",
     "output_type": "stream",
     "text": [
      "Test set accuracy: 85.0%\n"
     ]
    },
    {
     "name": "stderr",
     "output_type": "stream",
     "text": [
      "100%|██████████| 352/352 [01:07<00:00,  5.18it/s]\n"
     ]
    },
    {
     "name": "stdout",
     "output_type": "stream",
     "text": [
      "Retrain set accuracy: 97.1%\n"
     ]
    },
    {
     "name": "stderr",
     "output_type": "stream",
     "text": [
      "100%|██████████| 40/40 [00:07<00:00,  5.13it/s]\n"
     ]
    },
    {
     "name": "stdout",
     "output_type": "stream",
     "text": [
      "Forget set accuracy: 85.6%\n"
     ]
    },
    {
     "name": "stderr",
     "output_type": "stream",
     "text": [
      "100%|██████████| 391/391 [01:10<00:00,  5.54it/s]\n"
     ]
    },
    {
     "name": "stdout",
     "output_type": "stream",
     "text": [
      "Train set accuracy: 90.7%\n"
     ]
    },
    {
     "name": "stderr",
     "output_type": "stream",
     "text": [
      "100%|██████████| 40/40 [00:07<00:00,  5.65it/s]\n"
     ]
    },
    {
     "name": "stdout",
     "output_type": "stream",
     "text": [
      "Test set accuracy: 78.5%\n"
     ]
    },
    {
     "name": "stderr",
     "output_type": "stream",
     "text": [
      "100%|██████████| 352/352 [01:02<00:00,  5.60it/s]\n"
     ]
    },
    {
     "name": "stdout",
     "output_type": "stream",
     "text": [
      "Retain set accuracy: 91.9%\n"
     ]
    },
    {
     "name": "stderr",
     "output_type": "stream",
     "text": [
      "100%|██████████| 40/40 [00:07<00:00,  5.59it/s]"
     ]
    },
    {
     "name": "stdout",
     "output_type": "stream",
     "text": [
      "Forget set accuracy: 79.1%\n"
     ]
    },
    {
     "name": "stderr",
     "output_type": "stream",
     "text": [
      "\n"
     ]
    }
   ],
   "source": [
    "print(f\"Train set accuracy: {100.0 * accuracy(in_model, train_loader):0.1f}%\")\n",
    "print(f\"Test set accuracy: {100.0 * accuracy(in_model, test_loader):0.1f}%\")\n",
    "print(f\"Retrain set accuracy: {100.0 * accuracy(in_model, retain_loader):0.1f}%\")\n",
    "print(f\"Forget set accuracy: {100.0 * accuracy(in_model, forget_loader):0.1f}%\")\n",
    "\n",
    "print(f\"Train set accuracy: {100.0 * accuracy(v0_model, train_loader):0.1f}%\")\n",
    "print(f\"Test set accuracy: {100.0 * accuracy(v0_model, test_loader):0.1f}%\")\n",
    "print(f\"Retain set accuracy: {100.0 * accuracy(v0_model, retain_loader):0.1f}%\")\n",
    "print(f\"Forget set accuracy: {100.0 * accuracy(v0_model, forget_loader):0.1f}%\")\n",
    "\n",
    "# Additional retain results:\n",
    "# Train = 98.4\n",
    "# Test = 82.8\n",
    "# Retain = 99.9\n",
    "# Forget = 84.4\n",
    "\n",
    "# 95, 91, 79, 92, 79"
   ]
  },
  {
   "cell_type": "code",
   "execution_count": 27,
   "id": "71a3048d",
   "metadata": {
    "execution": {
     "iopub.execute_input": "2023-08-14T19:46:52.550355Z",
     "iopub.status.busy": "2023-08-14T19:46:52.549885Z",
     "iopub.status.idle": "2023-08-14T19:47:07.289188Z",
     "shell.execute_reply": "2023-08-14T19:47:07.287512Z"
    },
    "papermill": {
     "duration": 15.469452,
     "end_time": "2023-08-14T19:47:07.291882",
     "exception": false,
     "start_time": "2023-08-14T19:46:51.822430",
     "status": "completed"
    },
    "tags": []
   },
   "outputs": [
    {
     "name": "stderr",
     "output_type": "stream",
     "text": [
      "100%|██████████| 40/40 [00:07<00:00,  5.44it/s]\n",
      "100%|██████████| 40/40 [00:07<00:00,  5.43it/s]\n"
     ]
    }
   ],
   "source": [
    "v0_test_losses = compute_losses(v0_model, test_loader)\n",
    "v0_forget_losses = compute_losses(v0_model, forget_loader)\n",
    "\n",
    "v0_samples_mia = np.concatenate((v0_test_losses, v0_forget_losses)).reshape((-1, 1))\n",
    "labels_mia = [0] * len(v0_test_losses) + [1] * len(v0_forget_losses)"
   ]
  },
  {
   "cell_type": "code",
   "execution_count": 28,
   "id": "d76ec7b5",
   "metadata": {
    "execution": {
     "iopub.execute_input": "2023-08-14T19:47:08.790201Z",
     "iopub.status.busy": "2023-08-14T19:47:08.789090Z",
     "iopub.status.idle": "2023-08-14T19:47:08.953754Z",
     "shell.execute_reply": "2023-08-14T19:47:08.952149Z"
    },
    "papermill": {
     "duration": 0.872182,
     "end_time": "2023-08-14T19:47:08.956721",
     "exception": false,
     "start_time": "2023-08-14T19:47:08.084539",
     "status": "completed"
    },
    "tags": []
   },
   "outputs": [
    {
     "name": "stdout",
     "output_type": "stream",
     "text": [
      "The MIA has an accuracy of 0.492 on forgotten vs unseen images\n"
     ]
    }
   ],
   "source": [
    "v0_mia_scores = simple_mia(v0_samples_mia, labels_mia)\n",
    "\n",
    "print(\n",
    "    f\"The MIA has an accuracy of {v0_mia_scores.mean():.3f} on forgotten vs unseen images\"\n",
    ")"
   ]
  },
  {
   "cell_type": "code",
   "execution_count": 29,
   "id": "c20d24c1",
   "metadata": {
    "execution": {
     "iopub.execute_input": "2023-08-14T19:47:10.381588Z",
     "iopub.status.busy": "2023-08-14T19:47:10.381133Z",
     "iopub.status.idle": "2023-08-14T19:47:11.963987Z",
     "shell.execute_reply": "2023-08-14T19:47:11.962806Z"
    },
    "papermill": {
     "duration": 2.294956,
     "end_time": "2023-08-14T19:47:11.966542",
     "exception": false,
     "start_time": "2023-08-14T19:47:09.671586",
     "status": "completed"
    },
    "tags": []
   },
   "outputs": [
    {
     "data": {
      "image/png": "[encoded data removed]",
      "text/plain": [
       "<Figure size 1600x600 with 2 Axes>"
      ]
     },
     "metadata": {},
     "output_type": "display_data"
    }
   ],
   "source": [
    "fig, (ax1, ax2) = plt.subplots(1, 2, figsize=(16, 6))\n",
    "\n",
    "ax1.set_title(f\"Re-trained model.\\nAttack accuracy: {rt_mia_scores.mean():0.2f}\")\n",
    "ax1.hist(rt_test_losses, density=True, alpha=0.5, bins=50, label=\"Test set\")\n",
    "ax1.hist(rt_forget_losses, density=True, alpha=0.5, bins=50, label=\"Forget set\")\n",
    "\n",
    "ax2.set_title(\n",
    "    f\"Attempt v0.1.\\nAttack accuracy: {v0_mia_scores.mean():0.2f}\"\n",
    ")\n",
    "ax2.hist(v0_test_losses, density=True, alpha=0.5, bins=50, label=\"Test set\")\n",
    "ax2.hist(v0_forget_losses, density=True, alpha=0.5, bins=50, label=\"Forget set\")\n",
    "\n",
    "ax1.set_xlabel(\"Loss\")\n",
    "ax2.set_xlabel(\"Loss\")\n",
    "ax1.set_ylabel(\"Frequency\")\n",
    "ax1.set_yscale(\"log\")\n",
    "ax2.set_yscale(\"log\")\n",
    "ax1.set_xlim((0, np.max(v0_test_losses)))\n",
    "ax2.set_xlim((0, np.max(v0_test_losses)))\n",
    "for ax in (ax1, ax2):\n",
    "    ax.spines[\"top\"].set_visible(False)\n",
    "    ax.spines[\"right\"].set_visible(False)\n",
    "ax1.legend(frameon=False, fontsize=14)\n",
    "plt.show()"
   ]
  },
  {
   "cell_type": "markdown",
   "id": "c6de169d",
   "metadata": {
    "papermill": {
     "duration": 0.70637,
     "end_time": "2023-08-14T19:47:13.495047",
     "exception": false,
     "start_time": "2023-08-14T19:47:12.788677",
     "status": "completed"
    },
    "tags": []
   },
   "source": [
    "## Attempt v1.0\n",
    "Using the [Fast Yet Effective Machine Unlearning](https://arxiv.org/pdf/2111.08947.pdf) with [code](https://github.com/vikram2000b/Fast-Machine-Unlearning/blob/main/Machine%20Unlearning.ipynb) as inspiration. The idea behind this model is to selectively train a layer to generate a noisy image to be added to each of the target forget images. A few questions still to be answered:\n",
    "- Can the noisy image be generated for multiple images at the same time? As in, pairs of 2/5/10/... images are used to train the noise. That would significantly reduce the amount of time it takes to forget.\n",
    "- Is it better to generate this noisy image for groups based on classes?"
   ]
  },
  {
   "cell_type": "code",
   "execution_count": 30,
   "id": "0b36608c",
   "metadata": {
    "execution": {
     "iopub.execute_input": "2023-08-14T19:47:15.031280Z",
     "iopub.status.busy": "2023-08-14T19:47:15.030450Z",
     "iopub.status.idle": "2023-08-14T19:47:15.041177Z",
     "shell.execute_reply": "2023-08-14T19:47:15.040188Z"
    },
    "papermill": {
     "duration": 0.829119,
     "end_time": "2023-08-14T19:47:15.044013",
     "exception": false,
     "start_time": "2023-08-14T19:47:14.214894",
     "status": "completed"
    },
    "tags": []
   },
   "outputs": [],
   "source": [
    "%%script false --no-raise-error\n",
    "# Create Noise Class\n",
    "class Noise(nn.Module):\n",
    "    def __init__(self, *dim):\n",
    "        super().__init__()\n",
    "        self.noise = torch.nn.Parameter(torch.randn(*dim), requires_grad = True)\n",
    "    \n",
    "    def forward(self):\n",
    "        return self.noise"
   ]
  },
  {
   "cell_type": "code",
   "execution_count": 31,
   "id": "a6808e52",
   "metadata": {
    "execution": {
     "iopub.execute_input": "2023-08-14T19:47:16.475948Z",
     "iopub.status.busy": "2023-08-14T19:47:16.475283Z",
     "iopub.status.idle": "2023-08-14T19:47:16.487690Z",
     "shell.execute_reply": "2023-08-14T19:47:16.486600Z"
    },
    "papermill": {
     "duration": 0.719045,
     "end_time": "2023-08-14T19:47:16.490357",
     "exception": false,
     "start_time": "2023-08-14T19:47:15.771312",
     "status": "completed"
    },
    "tags": []
   },
   "outputs": [],
   "source": [
    "%%script false --no-raise-error\n",
    "def train_noise(net, noise, inputs, targets):\n",
    "    \"\"\"Train the noisy layer\n",
    "    \n",
    "    Args:\n",
    "        net : nn.Module\n",
    "            pre-trained model with weights locked\n",
    "        noise : nn.Module\n",
    "            noisy layer\n",
    "        inputs : ???\n",
    "            subset of images from the forget\n",
    "        targets : ???\n",
    "            vector of labels\n",
    "    \n",
    "    Returns:\n",
    "        noise : np.array\n",
    "    \n",
    "    \"\"\"\n",
    "    \n",
    "#     print(noise.get_parameter('noise'))\n",
    "    \n",
    "    epochs = 50\n",
    "    \n",
    "    criterion = nn.CrossEntropyLoss()\n",
    "    optimizer = optim.SGD(noise.parameters(), lr=0.1, momentum=0.9, weight_decay=5e-4)\n",
    "    scheduler = torch.optim.lr_scheduler.CosineAnnealingLR(optimizer, T_max=epochs)\n",
    "\n",
    "    print('Training Noise:')\n",
    "    for _ in tqdm(range(epochs)):\n",
    "#         print(f'epoch {_}')\n",
    "        inputs, targets = inputs.to(DEVICE), targets.to(DEVICE)\n",
    "        optimizer.zero_grad()\n",
    "        outputs = net(inputs + noise())\n",
    "        loss = criterion(outputs, targets)\n",
    "        loss = loss * -1\n",
    "#         print(loss.detach())\n",
    "        loss.backward()\n",
    "        optimizer.step()\n",
    "    scheduler.step()\n",
    "\n",
    "    return noise\n",
    "    \n",
    "\n",
    "def degrade_model(net, noise, inputs, targets):\n",
    "    \"\"\"Takes the given model and noise and uses that to\n",
    "    degrade the model\n",
    "    \n",
    "    Args:\n",
    "        net : nn.Module\n",
    "            pre-trained model to degrade\n",
    "        noise : nn.Module\n",
    "            generated noise image to add to inputs\n",
    "        target : ???\n",
    "        \n",
    "    Returns:\n",
    "        net : nn.Module\n",
    "            Degraded network\n",
    "    \n",
    "    \"\"\"\n",
    "    epochs = 3\n",
    "    \n",
    "    criterion = nn.CrossEntropyLoss()\n",
    "    optimizer = optim.SGD(net.parameters(), lr=0.1, momentum=0.9, weight_decay=5e-4)\n",
    "    scheduler = torch.optim.lr_scheduler.CosineAnnealingLR(optimizer, T_max=epochs)\n",
    "    net.train()\n",
    "    \n",
    "    print('Degrading Model:')\n",
    "    for _ in tqdm(range(epochs)):\n",
    "#         print(f'epoch {_}')\n",
    "        inputs, targets = inputs.to(DEVICE), targets.to(DEVICE)\n",
    "        optimizer.zero_grad()\n",
    "        outputs = net(inputs + noise())\n",
    "        loss = criterion(outputs, targets)\n",
    "#         print(loss.detach())\n",
    "        loss.backward()\n",
    "        optimizer.step()\n",
    "    scheduler.step()\n",
    "\n",
    "    return net\n",
    "    \n",
    "def repair_model(net, retain, itter):\n",
    "    \"\"\"Repairs the given model using a couple itterations\n",
    "    of the retain dataset\n",
    "    \n",
    "    Args:\n",
    "        net: nn.Module\n",
    "            degraded model\n",
    "        retain : torch.utils.data.DataLoader.\n",
    "            Dataset loader for access to the retain set. This is the subset\n",
    "            of the training set that we don't want to forget.\n",
    "        itter: int\n",
    "            Number of iterations to repair the model for\n",
    "    \n",
    "    Returns:\n",
    "        net: nn.Module\n",
    "            repaired model\n",
    "    \n",
    "    \"\"\"\n",
    "    criterion = nn.CrossEntropyLoss()\n",
    "    optimizer = optim.SGD(net.parameters(), lr=0.1, momentum=0.9, weight_decay=5e-4)\n",
    "    scheduler = torch.optim.lr_scheduler.CosineAnnealingLR(optimizer, T_max=itter)\n",
    "    net.train()\n",
    "\n",
    "    print('Repairing Model:')\n",
    "    for _ in tqdm(range(itter)):\n",
    "#         print(f'itter {_}')\n",
    "#         for inputs, targets in tqdm(retain):\n",
    "        inputs, targets =  next(iter(retain))\n",
    "        inputs, targets = inputs.to(DEVICE), targets.to(DEVICE)\n",
    "        optimizer.zero_grad()\n",
    "        outputs = net(inputs)\n",
    "        loss = criterion(outputs, targets)\n",
    "        loss.backward()\n",
    "        optimizer.step()\n",
    "    scheduler.step()\n",
    "\n",
    "    net.eval()\n",
    "    return net\n",
    "    \n",
    "    \n",
    "    \n",
    "def unlearner_v10(net, retain, forget, validation, f_size):\n",
    "    \"\"\"Unlearning through noise.\n",
    "\n",
    "    Args:\n",
    "        net : nn.Module.\n",
    "            pre-trained model to use as base of unlearning.\n",
    "        retain : torch.utils.data.DataLoader.\n",
    "            Dataset loader for access to the retain set. This is the subset\n",
    "            of the training set that we don't want to forget.\n",
    "        forget : torch.utils.data.DataLoader.\n",
    "            Dataset loader for access to the forget set. This is the subset\n",
    "            of the training set that we want to forget. This method doesn't\n",
    "            make use of the forget set.\n",
    "        validation : torch.utils.data.DataLoader.\n",
    "            Dataset loader for access to the validation set. This method doesn't\n",
    "            make use of the validation set.\n",
    "            \n",
    "        f_size : int\n",
    "            The size of the mini-batches used for the training of the noisy image\n",
    "        \n",
    "    Returns:\n",
    "          new_net : nn.Module\n",
    "              Updated model\n",
    "    \"\"\"\n",
    "    \n",
    "    # Train the noise layer on the forget dataset sample\n",
    "    inputs, targets = next(iter(forget))\n",
    "    \n",
    "    noise = Noise(inputs.shape).to(DEVICE)\n",
    "    \n",
    "    noise = train_noise(net.eval(), noise.train(), inputs, targets)\n",
    "    \n",
    "    # Train the network using the noise layer\n",
    "    net = degrade_model(net.train(), noise.eval(), inputs, targets)\n",
    "    \n",
    "    # Repair by training with sample of retain dataset sample\n",
    "    net = repair_model(net.train(), retain, 300)\n",
    "    \n",
    "    return net\n"
   ]
  },
  {
   "cell_type": "code",
   "execution_count": 32,
   "id": "70bca946",
   "metadata": {
    "execution": {
     "iopub.execute_input": "2023-08-14T19:47:17.919781Z",
     "iopub.status.busy": "2023-08-14T19:47:17.919371Z",
     "iopub.status.idle": "2023-08-14T19:47:17.928877Z",
     "shell.execute_reply": "2023-08-14T19:47:17.927749Z"
    },
    "papermill": {
     "duration": 0.72028,
     "end_time": "2023-08-14T19:47:17.931305",
     "exception": false,
     "start_time": "2023-08-14T19:47:17.211025",
     "status": "completed"
    },
    "scrolled": true,
    "tags": []
   },
   "outputs": [],
   "source": [
    "%%script false --no-raise-error\n",
    "import copy\n",
    "model_copy = copy.deepcopy(ft_model)\n",
    "\n",
    "v10_model = unlearner_v10(ft_model, retain_loader, forget_loader, test_loader, None)"
   ]
  },
  {
   "cell_type": "code",
   "execution_count": 33,
   "id": "4c05acff",
   "metadata": {
    "execution": {
     "iopub.execute_input": "2023-08-14T19:47:19.433923Z",
     "iopub.status.busy": "2023-08-14T19:47:19.433158Z",
     "iopub.status.idle": "2023-08-14T19:47:19.441608Z",
     "shell.execute_reply": "2023-08-14T19:47:19.440655Z"
    },
    "papermill": {
     "duration": 0.726912,
     "end_time": "2023-08-14T19:47:19.443977",
     "exception": false,
     "start_time": "2023-08-14T19:47:18.717065",
     "status": "completed"
    },
    "tags": []
   },
   "outputs": [],
   "source": [
    "%%script false --no-raise-error\n",
    "print(f\"Train set accuracy: {100.0 * accuracy(v10_model, train_loader):0.1f}%\")\n",
    "print(f\"Test set accuracy: {100.0 * accuracy(v10_model, test_loader):0.1f}%\")\n",
    "print(f\"Retain set accuracy: {100.0 * accuracy(v10_model, retain_loader):0.1f}%\")\n",
    "print(f\"Forget set accuracy: {100.0 * accuracy(v10_model, forget_loader):0.1f}%\")"
   ]
  },
  {
   "cell_type": "code",
   "execution_count": 34,
   "id": "298515c3",
   "metadata": {
    "execution": {
     "iopub.execute_input": "2023-08-14T19:47:20.954637Z",
     "iopub.status.busy": "2023-08-14T19:47:20.954239Z",
     "iopub.status.idle": "2023-08-14T19:47:20.964147Z",
     "shell.execute_reply": "2023-08-14T19:47:20.962823Z"
    },
    "papermill": {
     "duration": 0.801683,
     "end_time": "2023-08-14T19:47:20.966818",
     "exception": false,
     "start_time": "2023-08-14T19:47:20.165135",
     "status": "completed"
    },
    "tags": []
   },
   "outputs": [],
   "source": [
    "%%script false --no-raise-error\n",
    "v10_test_losses = compute_losses(v10_model, test_loader)\n",
    "v10_forget_losses = compute_losses(v10_model, forget_loader)\n",
    "\n",
    "v10_samples_mia = np.concatenate((v10_test_losses, v10_forget_losses)).reshape((-1, 1))\n",
    "labels_mia = [0] * len(v10_test_losses) + [1] * len(v10_forget_losses)"
   ]
  },
  {
   "cell_type": "code",
   "execution_count": 35,
   "id": "16ee79f8",
   "metadata": {
    "execution": {
     "iopub.execute_input": "2023-08-14T19:47:22.471831Z",
     "iopub.status.busy": "2023-08-14T19:47:22.470590Z",
     "iopub.status.idle": "2023-08-14T19:47:22.479694Z",
     "shell.execute_reply": "2023-08-14T19:47:22.478844Z"
    },
    "papermill": {
     "duration": 0.789872,
     "end_time": "2023-08-14T19:47:22.482459",
     "exception": false,
     "start_time": "2023-08-14T19:47:21.692587",
     "status": "completed"
    },
    "tags": []
   },
   "outputs": [],
   "source": [
    "%%script false --no-raise-error\n",
    "v10_mia_scores = simple_mia(v10_samples_mia, labels_mia)\n",
    "\n",
    "print(\n",
    "    f\"The MIA has an accuracy of {v10_mia_scores.mean():.3f} on forgotten vs unseen images\"\n",
    ")"
   ]
  },
  {
   "cell_type": "code",
   "execution_count": 36,
   "id": "27e2f762",
   "metadata": {
    "execution": {
     "iopub.execute_input": "2023-08-14T19:47:23.919277Z",
     "iopub.status.busy": "2023-08-14T19:47:23.917418Z",
     "iopub.status.idle": "2023-08-14T19:47:23.928682Z",
     "shell.execute_reply": "2023-08-14T19:47:23.927525Z"
    },
    "papermill": {
     "duration": 0.723565,
     "end_time": "2023-08-14T19:47:23.931122",
     "exception": false,
     "start_time": "2023-08-14T19:47:23.207557",
     "status": "completed"
    },
    "tags": []
   },
   "outputs": [],
   "source": [
    "%%script false --no-raise-error\n",
    "fig, (ax1, ax2) = plt.subplots(1, 2, figsize=(16, 6))\n",
    "\n",
    "ax1.set_title(f\"Re-trained model.\\nAttack accuracy: {rt_mia_scores.mean():0.2f}\")\n",
    "ax1.hist(rt_test_losses, density=True, alpha=0.5, bins=50, label=\"Test set\")\n",
    "ax1.hist(rt_forget_losses, density=True, alpha=0.5, bins=50, label=\"Forget set\")\n",
    "\n",
    "ax2.set_title(\n",
    "    f\"Attempt v1.0 \\nAttack accuracy: {v10_mia_scores.mean():0.2f}\"\n",
    ")\n",
    "ax2.hist(v10_test_losses, density=True, alpha=0.5, bins=50, label=\"Test set\")\n",
    "ax2.hist(v10_forget_losses, density=True, alpha=0.5, bins=50, label=\"Forget set\")\n",
    "\n",
    "ax1.set_xlabel(\"Loss\")\n",
    "ax2.set_xlabel(\"Loss\")\n",
    "ax1.set_ylabel(\"Frequency\")\n",
    "ax1.set_yscale(\"log\")\n",
    "ax2.set_yscale(\"log\")\n",
    "ax1.set_xlim((0, np.max(v10_test_losses)))\n",
    "ax2.set_xlim((0, np.max(v10_test_losses)))\n",
    "for ax in (ax1, ax2):\n",
    "    ax.spines[\"top\"].set_visible(False)\n",
    "    ax.spines[\"right\"].set_visible(False)\n",
    "ax1.legend(frameon=False, fontsize=14)\n",
    "plt.show()"
   ]
  },
  {
   "cell_type": "code",
   "execution_count": null,
   "id": "9f3167fb",
   "metadata": {
    "papermill": {
     "duration": 0.712511,
     "end_time": "2023-08-14T19:47:25.436654",
     "exception": false,
     "start_time": "2023-08-14T19:47:24.724143",
     "status": "completed"
    },
    "tags": []
   },
   "outputs": [],
   "source": []
  }
 ],
 "metadata": {
  "kernelspec": {
   "display_name": "Python 3",
   "language": "python",
   "name": "python3"
  },
  "language_info": {
   "codemirror_mode": {
    "name": "ipython",
    "version": 3
   },
   "file_extension": ".py",
   "mimetype": "text/x-python",
   "name": "python",
   "nbconvert_exporter": "python",
   "pygments_lexer": "ipython3",
   "version": "3.10.12"
  },
  "papermill": {
   "default_parameters": {},
   "duration": 3874.662177,
   "end_time": "2023-08-14T19:47:28.091995",
   "environment_variables": {},
   "exception": null,
   "input_path": "__notebook__.ipynb",
   "output_path": "__notebook__.ipynb",
   "parameters": {},
   "start_time": "2023-08-14T18:42:53.429818",
   "version": "2.4.0"
  }
 },
 "nbformat": 4,
 "nbformat_minor": 5
}
