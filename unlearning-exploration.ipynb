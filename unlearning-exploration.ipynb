{
 "cells": [
  {
   "cell_type": "markdown",
   "id": "1ddfbfd0",
   "metadata": {
    "papermill": {
     "duration": 0.01152,
     "end_time": "2023-08-11T17:19:53.149555",
     "exception": false,
     "start_time": "2023-08-11T17:19:53.138035",
     "status": "completed"
    },
    "tags": []
   },
   "source": [
    "# NeurIPS 2023 Machine Unlearning Challenge\n",
    "Heavily based off of the code presented here: https://github.com/unlearning-challenge/starting-kit/blob/main/unlearning-CIFAR10.ipynb\n",
    "\n",
    "Relevant Links:\n",
    "Fast Yet Effective Unlearning: https://arxiv.org/pdf/2111.08947.pdf and [code repo](https://github.com/vikram2000b/Fast-Machine-Unlearning/blob/main/Machine%20Unlearning.ipynb)\n",
    "\n",
    "LEACE: https://arxiv.org/pdf/2306.03819.pdf"
   ]
  },
  {
   "cell_type": "code",
   "execution_count": 1,
   "id": "96af5ca3",
   "metadata": {
    "_cell_guid": "b1076dfc-b9ad-4769-8c92-a6c4dae69d19",
    "_uuid": "8f2839f25d086af736a60e9eeb907d3b93b6e0e5",
    "execution": {
     "iopub.execute_input": "2023-08-11T17:19:53.174479Z",
     "iopub.status.busy": "2023-08-11T17:19:53.174067Z",
     "iopub.status.idle": "2023-08-11T17:19:53.201366Z",
     "shell.execute_reply": "2023-08-11T17:19:53.200409Z"
    },
    "papermill": {
     "duration": 0.04289,
     "end_time": "2023-08-11T17:19:53.204049",
     "exception": false,
     "start_time": "2023-08-11T17:19:53.161159",
     "status": "completed"
    },
    "tags": []
   },
   "outputs": [],
   "source": [
    "%%script false --no-raise-error\n",
    "# This Python 3 environment comes with many helpful analytics libraries installed\n",
    "# It is defined by the kaggle/python Docker image: https://github.com/kaggle/docker-python\n",
    "# For example, here's several helpful packages to load\n",
    "\n",
    "import numpy as np # linear algebra\n",
    "import pandas as pd # data processing, CSV file I/O (e.g. pd.read_csv)\n",
    "\n",
    "# Input data files are available in the read-only \"../input/\" directory\n",
    "# For example, running this (by clicking run or pressing Shift+Enter) will list all files under the input directory\n",
    "\n",
    "import os\n",
    "for dirname, _, filenames in os.walk('/kaggle/input'):\n",
    "    for filename in filenames:\n",
    "        print(os.path.join(dirname, filename))\n",
    "\n",
    "# You can write up to 20GB to the current directory (/kaggle/working/) that gets preserved as output when you create a version using \"Save & Run All\" \n",
    "# You can also write temporary files to /kaggle/temp/, but they won't be saved outside of the current session"
   ]
  },
  {
   "cell_type": "code",
   "execution_count": 2,
   "id": "130f74ba",
   "metadata": {
    "execution": {
     "iopub.execute_input": "2023-08-11T17:19:53.229589Z",
     "iopub.status.busy": "2023-08-11T17:19:53.228446Z",
     "iopub.status.idle": "2023-08-11T17:20:06.547615Z",
     "shell.execute_reply": "2023-08-11T17:20:06.546468Z"
    },
    "papermill": {
     "duration": 13.335655,
     "end_time": "2023-08-11T17:20:06.551572",
     "exception": false,
     "start_time": "2023-08-11T17:19:53.215917",
     "status": "completed"
    },
    "tags": []
   },
   "outputs": [
    {
     "name": "stderr",
     "output_type": "stream",
     "text": [
      "/opt/conda/lib/python3.10/site-packages/scipy/__init__.py:146: UserWarning: A NumPy version >=1.16.5 and <1.23.0 is required for this version of SciPy (detected version 1.23.5\n",
      "  warnings.warn(f\"A NumPy version >={np_minversion} and <{np_maxversion}\"\n"
     ]
    },
    {
     "name": "stdout",
     "output_type": "stream",
     "text": [
      "Running on device: CPU\n",
      "Downloading https://www.cs.toronto.edu/~kriz/cifar-10-python.tar.gz to ./data/cifar-10-python.tar.gz\n"
     ]
    },
    {
     "name": "stderr",
     "output_type": "stream",
     "text": [
      "100%|██████████| 170498071/170498071 [00:03<00:00, 48984549.88it/s]\n"
     ]
    },
    {
     "name": "stdout",
     "output_type": "stream",
     "text": [
      "Extracting ./data/cifar-10-python.tar.gz to ./data\n",
      "Files already downloaded and verified\n"
     ]
    }
   ],
   "source": [
    "import os\n",
    "import requests\n",
    "import numpy as np\n",
    "import matplotlib.pyplot as plt\n",
    "from sklearn import linear_model, model_selection\n",
    "\n",
    "from tqdm import tqdm\n",
    "import torch\n",
    "from torch import nn\n",
    "from torch import optim\n",
    "from torch.utils.data import DataLoader\n",
    "\n",
    "import torchvision\n",
    "from torchvision import transforms\n",
    "from torchvision.utils import make_grid\n",
    "from torchvision.models import resnet18\n",
    "\n",
    "DEVICE = \"cuda\" if torch.cuda.is_available() else \"cpu\"\n",
    "print(\"Running on device:\", DEVICE.upper())\n",
    "\n",
    "# manual random seed is used for dataset partitioning\n",
    "# to ensure reproducible results across runs\n",
    "RNG = torch.Generator().manual_seed(42)\n",
    "\n",
    "# download and pre-process CIFAR10\n",
    "normalize = transforms.Compose(\n",
    "    [\n",
    "        transforms.ToTensor(),\n",
    "        transforms.Normalize((0.4914, 0.4822, 0.4465), (0.2023, 0.1994, 0.2010)),\n",
    "    ]\n",
    ")\n",
    "\n",
    "train_set = torchvision.datasets.CIFAR10(\n",
    "    root=\"./data\", train=True, download=True, transform=normalize\n",
    ")\n",
    "train_loader = DataLoader(train_set, batch_size=128, shuffle=True, num_workers=2)\n",
    "\n",
    "# we split held out data into test and validation set\n",
    "held_out = torchvision.datasets.CIFAR10(\n",
    "    root=\"./data\", train=False, download=True, transform=normalize\n",
    ")\n",
    "test_set, val_set = torch.utils.data.random_split(held_out, [0.5, 0.5], generator=RNG)\n",
    "test_loader = DataLoader(test_set, batch_size=128, shuffle=False, num_workers=2)\n",
    "val_loader = DataLoader(val_set, batch_size=128, shuffle=False, num_workers=2)\n",
    "\n",
    "# for the unlearning algorithm we'll also need a split of the train set into\n",
    "# forget_set and a retain_set\n",
    "forget_set, retain_set = torch.utils.data.random_split(train_set, [0.1, 0.9], generator=RNG)\n",
    "forget_loader = torch.utils.data.DataLoader(\n",
    "    forget_set, batch_size=128, shuffle=True, num_workers=2\n",
    ")\n",
    "retain_loader = torch.utils.data.DataLoader(\n",
    "    retain_set, batch_size=128, shuffle=True, num_workers=2, generator=RNG\n",
    ")\n"
   ]
  },
  {
   "cell_type": "markdown",
   "id": "63588df2",
   "metadata": {
    "papermill": {
     "duration": 0.017133,
     "end_time": "2023-08-11T17:20:06.586377",
     "exception": false,
     "start_time": "2023-08-11T17:20:06.569244",
     "status": "completed"
    },
    "tags": []
   },
   "source": [
    "Since we can't download the aws weights, I've manually uploaded them to this Kaggle notebook as `unlearning-cifar10-resnet18-weights`"
   ]
  },
  {
   "cell_type": "code",
   "execution_count": 3,
   "id": "fb43040f",
   "metadata": {
    "execution": {
     "iopub.execute_input": "2023-08-11T17:20:06.618368Z",
     "iopub.status.busy": "2023-08-11T17:20:06.617715Z",
     "iopub.status.idle": "2023-08-11T17:20:07.413035Z",
     "shell.execute_reply": "2023-08-11T17:20:07.411657Z"
    },
    "papermill": {
     "duration": 0.814584,
     "end_time": "2023-08-11T17:20:07.415941",
     "exception": false,
     "start_time": "2023-08-11T17:20:06.601357",
     "status": "completed"
    },
    "scrolled": true,
    "tags": []
   },
   "outputs": [
    {
     "data": {
      "text/plain": [
       "ResNet(\n",
       "  (conv1): Conv2d(3, 64, kernel_size=(7, 7), stride=(2, 2), padding=(3, 3), bias=False)\n",
       "  (bn1): BatchNorm2d(64, eps=1e-05, momentum=0.1, affine=True, track_running_stats=True)\n",
       "  (relu): ReLU(inplace=True)\n",
       "  (maxpool): MaxPool2d(kernel_size=3, stride=2, padding=1, dilation=1, ceil_mode=False)\n",
       "  (layer1): Sequential(\n",
       "    (0): BasicBlock(\n",
       "      (conv1): Conv2d(64, 64, kernel_size=(3, 3), stride=(1, 1), padding=(1, 1), bias=False)\n",
       "      (bn1): BatchNorm2d(64, eps=1e-05, momentum=0.1, affine=True, track_running_stats=True)\n",
       "      (relu): ReLU(inplace=True)\n",
       "      (conv2): Conv2d(64, 64, kernel_size=(3, 3), stride=(1, 1), padding=(1, 1), bias=False)\n",
       "      (bn2): BatchNorm2d(64, eps=1e-05, momentum=0.1, affine=True, track_running_stats=True)\n",
       "    )\n",
       "    (1): BasicBlock(\n",
       "      (conv1): Conv2d(64, 64, kernel_size=(3, 3), stride=(1, 1), padding=(1, 1), bias=False)\n",
       "      (bn1): BatchNorm2d(64, eps=1e-05, momentum=0.1, affine=True, track_running_stats=True)\n",
       "      (relu): ReLU(inplace=True)\n",
       "      (conv2): Conv2d(64, 64, kernel_size=(3, 3), stride=(1, 1), padding=(1, 1), bias=False)\n",
       "      (bn2): BatchNorm2d(64, eps=1e-05, momentum=0.1, affine=True, track_running_stats=True)\n",
       "    )\n",
       "  )\n",
       "  (layer2): Sequential(\n",
       "    (0): BasicBlock(\n",
       "      (conv1): Conv2d(64, 128, kernel_size=(3, 3), stride=(2, 2), padding=(1, 1), bias=False)\n",
       "      (bn1): BatchNorm2d(128, eps=1e-05, momentum=0.1, affine=True, track_running_stats=True)\n",
       "      (relu): ReLU(inplace=True)\n",
       "      (conv2): Conv2d(128, 128, kernel_size=(3, 3), stride=(1, 1), padding=(1, 1), bias=False)\n",
       "      (bn2): BatchNorm2d(128, eps=1e-05, momentum=0.1, affine=True, track_running_stats=True)\n",
       "      (downsample): Sequential(\n",
       "        (0): Conv2d(64, 128, kernel_size=(1, 1), stride=(2, 2), bias=False)\n",
       "        (1): BatchNorm2d(128, eps=1e-05, momentum=0.1, affine=True, track_running_stats=True)\n",
       "      )\n",
       "    )\n",
       "    (1): BasicBlock(\n",
       "      (conv1): Conv2d(128, 128, kernel_size=(3, 3), stride=(1, 1), padding=(1, 1), bias=False)\n",
       "      (bn1): BatchNorm2d(128, eps=1e-05, momentum=0.1, affine=True, track_running_stats=True)\n",
       "      (relu): ReLU(inplace=True)\n",
       "      (conv2): Conv2d(128, 128, kernel_size=(3, 3), stride=(1, 1), padding=(1, 1), bias=False)\n",
       "      (bn2): BatchNorm2d(128, eps=1e-05, momentum=0.1, affine=True, track_running_stats=True)\n",
       "    )\n",
       "  )\n",
       "  (layer3): Sequential(\n",
       "    (0): BasicBlock(\n",
       "      (conv1): Conv2d(128, 256, kernel_size=(3, 3), stride=(2, 2), padding=(1, 1), bias=False)\n",
       "      (bn1): BatchNorm2d(256, eps=1e-05, momentum=0.1, affine=True, track_running_stats=True)\n",
       "      (relu): ReLU(inplace=True)\n",
       "      (conv2): Conv2d(256, 256, kernel_size=(3, 3), stride=(1, 1), padding=(1, 1), bias=False)\n",
       "      (bn2): BatchNorm2d(256, eps=1e-05, momentum=0.1, affine=True, track_running_stats=True)\n",
       "      (downsample): Sequential(\n",
       "        (0): Conv2d(128, 256, kernel_size=(1, 1), stride=(2, 2), bias=False)\n",
       "        (1): BatchNorm2d(256, eps=1e-05, momentum=0.1, affine=True, track_running_stats=True)\n",
       "      )\n",
       "    )\n",
       "    (1): BasicBlock(\n",
       "      (conv1): Conv2d(256, 256, kernel_size=(3, 3), stride=(1, 1), padding=(1, 1), bias=False)\n",
       "      (bn1): BatchNorm2d(256, eps=1e-05, momentum=0.1, affine=True, track_running_stats=True)\n",
       "      (relu): ReLU(inplace=True)\n",
       "      (conv2): Conv2d(256, 256, kernel_size=(3, 3), stride=(1, 1), padding=(1, 1), bias=False)\n",
       "      (bn2): BatchNorm2d(256, eps=1e-05, momentum=0.1, affine=True, track_running_stats=True)\n",
       "    )\n",
       "  )\n",
       "  (layer4): Sequential(\n",
       "    (0): BasicBlock(\n",
       "      (conv1): Conv2d(256, 512, kernel_size=(3, 3), stride=(2, 2), padding=(1, 1), bias=False)\n",
       "      (bn1): BatchNorm2d(512, eps=1e-05, momentum=0.1, affine=True, track_running_stats=True)\n",
       "      (relu): ReLU(inplace=True)\n",
       "      (conv2): Conv2d(512, 512, kernel_size=(3, 3), stride=(1, 1), padding=(1, 1), bias=False)\n",
       "      (bn2): BatchNorm2d(512, eps=1e-05, momentum=0.1, affine=True, track_running_stats=True)\n",
       "      (downsample): Sequential(\n",
       "        (0): Conv2d(256, 512, kernel_size=(1, 1), stride=(2, 2), bias=False)\n",
       "        (1): BatchNorm2d(512, eps=1e-05, momentum=0.1, affine=True, track_running_stats=True)\n",
       "      )\n",
       "    )\n",
       "    (1): BasicBlock(\n",
       "      (conv1): Conv2d(512, 512, kernel_size=(3, 3), stride=(1, 1), padding=(1, 1), bias=False)\n",
       "      (bn1): BatchNorm2d(512, eps=1e-05, momentum=0.1, affine=True, track_running_stats=True)\n",
       "      (relu): ReLU(inplace=True)\n",
       "      (conv2): Conv2d(512, 512, kernel_size=(3, 3), stride=(1, 1), padding=(1, 1), bias=False)\n",
       "      (bn2): BatchNorm2d(512, eps=1e-05, momentum=0.1, affine=True, track_running_stats=True)\n",
       "    )\n",
       "  )\n",
       "  (avgpool): AdaptiveAvgPool2d(output_size=(1, 1))\n",
       "  (fc): Linear(in_features=512, out_features=10, bias=True)\n",
       ")"
      ]
     },
     "execution_count": 3,
     "metadata": {},
     "output_type": "execute_result"
    }
   ],
   "source": [
    "# # download pre-trained weights\n",
    "# local_path = \"weights_resnet18_cifar10.pth\"\n",
    "# if not os.path.exists(local_path):\n",
    "#     response = requests.get(\n",
    "#         'https://unlearning-challenge.s3.eu_west-1.amazonaws.com/weights_resnte18_cifar10.pth'\n",
    "#     )\n",
    "#     open(local_path, 'wb').write(response.content)\n",
    "\n",
    "# weights_pretrained = torch.load(local_path, map_location=DEVICE)\n",
    "\n",
    "# # Load model with pre-trained weights\n",
    "# model = resnet18(weights=None, num_classes=10)\n",
    "# model.load_state_dict(weights_pretrained)\n",
    "# model.to(DEVICE)\n",
    "# model.eval()\n",
    "\n",
    "weights_pretrained = torch.load('/kaggle/input/unlearning-cifar10-resnet18-weights/unlearning-cifar10-resnet18-weights/weights_resnet18_cifar10.pth', map_location=DEVICE)\n",
    "model = resnet18(weights=None, num_classes=10)\n",
    "model.load_state_dict(weights_pretrained)\n",
    "model.to(DEVICE)\n",
    "model.eval()"
   ]
  },
  {
   "cell_type": "markdown",
   "id": "d030c7bd",
   "metadata": {
    "papermill": {
     "duration": 0.015383,
     "end_time": "2023-08-11T17:20:07.446869",
     "exception": false,
     "start_time": "2023-08-11T17:20:07.431486",
     "status": "completed"
    },
    "tags": []
   },
   "source": [
    "Look at sample images"
   ]
  },
  {
   "cell_type": "code",
   "execution_count": 4,
   "id": "48b7ebb2",
   "metadata": {
    "execution": {
     "iopub.execute_input": "2023-08-11T17:20:07.479738Z",
     "iopub.status.busy": "2023-08-11T17:20:07.479350Z",
     "iopub.status.idle": "2023-08-11T17:20:07.488100Z",
     "shell.execute_reply": "2023-08-11T17:20:07.487098Z"
    },
    "papermill": {
     "duration": 0.028179,
     "end_time": "2023-08-11T17:20:07.490720",
     "exception": false,
     "start_time": "2023-08-11T17:20:07.462541",
     "status": "completed"
    },
    "tags": []
   },
   "outputs": [],
   "source": [
    "%%script false --no-raise-error\n",
    "\n",
    "# a temporary data loader without normalization, just to show the images\n",
    "tmp_dl = DataLoader(\n",
    "    torchvision.datasets.CIFAR10(\n",
    "        root=\"./data\", train=True, download=True, transform=transforms.ToTensor()\n",
    "    ),\n",
    "    batch_size=16 * 5,\n",
    "    shuffle=False,\n",
    ")\n",
    "images, labels = next(iter(tmp_dl))\n",
    "\n",
    "fig, ax = plt.subplots(figsize=(12, 6))\n",
    "plt.title(\"Sample images from CIFAR10 dataset\")\n",
    "ax.set_xticks([])\n",
    "ax.set_yticks([])\n",
    "ax.imshow(make_grid(images, nrow=16).permute(1, 2, 0))\n",
    "plt.show()"
   ]
  },
  {
   "cell_type": "markdown",
   "id": "01104421",
   "metadata": {
    "papermill": {
     "duration": 0.014821,
     "end_time": "2023-08-11T17:20:07.520871",
     "exception": false,
     "start_time": "2023-08-11T17:20:07.506050",
     "status": "completed"
    },
    "tags": []
   },
   "source": [
    "## Accuracy Equation"
   ]
  },
  {
   "cell_type": "code",
   "execution_count": 5,
   "id": "f15a45b9",
   "metadata": {
    "execution": {
     "iopub.execute_input": "2023-08-11T17:20:07.552709Z",
     "iopub.status.busy": "2023-08-11T17:20:07.552271Z",
     "iopub.status.idle": "2023-08-11T17:21:23.816869Z",
     "shell.execute_reply": "2023-08-11T17:21:23.815458Z"
    },
    "papermill": {
     "duration": 76.282998,
     "end_time": "2023-08-11T17:21:23.818926",
     "exception": false,
     "start_time": "2023-08-11T17:20:07.535928",
     "status": "completed"
    },
    "tags": []
   },
   "outputs": [
    {
     "name": "stderr",
     "output_type": "stream",
     "text": [
      "100%|██████████| 391/391 [01:09<00:00,  5.65it/s]\n"
     ]
    },
    {
     "name": "stdout",
     "output_type": "stream",
     "text": [
      "Train set accuracy: 99.5%\n"
     ]
    },
    {
     "name": "stderr",
     "output_type": "stream",
     "text": [
      "100%|██████████| 40/40 [00:07<00:00,  5.66it/s]"
     ]
    },
    {
     "name": "stdout",
     "output_type": "stream",
     "text": [
      "Test set accuracy: 88.3%\n"
     ]
    },
    {
     "name": "stderr",
     "output_type": "stream",
     "text": [
      "\n"
     ]
    }
   ],
   "source": [
    "def accuracy(net, loader):\n",
    "    \"\"\"Return accuracy on a dataset given by the data loader.\"\"\"\n",
    "    correct = 0\n",
    "    total = 0\n",
    "    for inputs, targets in tqdm(loader):\n",
    "        inputs, targets = inputs.to(DEVICE), targets.to(DEVICE)\n",
    "        outputs = net(inputs)\n",
    "        _, predicted = outputs.max(1)\n",
    "        total += targets.size(0)\n",
    "        correct += predicted.eq(targets).sum().item()\n",
    "    return correct / total\n",
    "\n",
    "\n",
    "print(f\"Train set accuracy: {100.0 * accuracy(model, train_loader):0.1f}%\")\n",
    "print(f\"Test set accuracy: {100.0 * accuracy(model, test_loader):0.1f}%\")"
   ]
  },
  {
   "cell_type": "markdown",
   "id": "4c62786b",
   "metadata": {
    "papermill": {
     "duration": 0.052927,
     "end_time": "2023-08-11T17:21:23.926078",
     "exception": false,
     "start_time": "2023-08-11T17:21:23.873151",
     "status": "completed"
    },
    "tags": []
   },
   "source": [
    "# Unlearning Algorithm\n",
    "In this section we develop the unlearning algorithm.\n",
    "\n",
    "In the previous section we created a split of the original training set into a retain set and a forget set. Typically, the retain set is much larger than the forget set. Here, we produce a split that is 10% forget set, and 90% retain set.\n",
    "\n",
    "The goal of an unlearning algorithm is to produce a model that approximates as much as possible the model trained solely on the retain set.\n",
    "\n",
    "Below is a simple unlearning algorithm provided for illustration purposes. We call this algorithm unlearning by fine-tuning. It starts from the pre-trained model and optimizes it for a few epochs on the retain set. This is a very simple unlearning algorithm, but it is not very computationally efficient, and we don't expect it to work very well for most metrics.\n",
    "\n",
    "To make a new entry in the competition, participants will submit an unlearning function with the same API as the one below. Note that the unlearning function takes as input a pre-trained model, a retain set, a forget set and an evaluation set (even though the fine-tuning algorithm below only uses the retain set and ignores the other datasets)."
   ]
  },
  {
   "cell_type": "code",
   "execution_count": 6,
   "id": "5a7f31af",
   "metadata": {
    "execution": {
     "iopub.execute_input": "2023-08-11T17:21:24.036759Z",
     "iopub.status.busy": "2023-08-11T17:21:24.036230Z",
     "iopub.status.idle": "2023-08-11T17:21:24.046267Z",
     "shell.execute_reply": "2023-08-11T17:21:24.045269Z"
    },
    "papermill": {
     "duration": 0.068654,
     "end_time": "2023-08-11T17:21:24.048577",
     "exception": false,
     "start_time": "2023-08-11T17:21:23.979923",
     "status": "completed"
    },
    "tags": []
   },
   "outputs": [],
   "source": [
    "def unlearning(net, retain, forget, validation):\n",
    "    \"\"\"Unlearning by fine-tuning.\n",
    "\n",
    "    Fine-tuning is a very simple algorithm that trains using only\n",
    "    the retain set.\n",
    "\n",
    "    Args:\n",
    "      net : nn.Module.\n",
    "        pre-trained model to use as base of unlearning.\n",
    "      retain : torch.utils.data.DataLoader.\n",
    "        Dataset loader for access to the retain set. This is the subset\n",
    "        of the training set that we don't want to forget.\n",
    "      forget : torch.utils.data.DataLoader.\n",
    "        Dataset loader for access to the forget set. This is the subset\n",
    "        of the training set that we want to forget. This method doesn't\n",
    "        make use of the forget set.\n",
    "      validation : torch.utils.data.DataLoader.\n",
    "        Dataset loader for access to the validation set. This method doesn't\n",
    "        make use of the validation set.\n",
    "    Returns:\n",
    "      net : updated model\n",
    "    \"\"\"\n",
    "    epochs = 5\n",
    "\n",
    "    criterion = nn.CrossEntropyLoss()\n",
    "    optimizer = optim.SGD(net.parameters(), lr=0.1, momentum=0.9, weight_decay=5e-4)\n",
    "    scheduler = torch.optim.lr_scheduler.CosineAnnealingLR(optimizer, T_max=epochs)\n",
    "    net.train()\n",
    "\n",
    "    for _ in range(epochs):\n",
    "        print(f'epoch {_}')\n",
    "        for inputs, targets in tqdm(retain):\n",
    "            inputs, targets = inputs.to(DEVICE), targets.to(DEVICE)\n",
    "            optimizer.zero_grad()\n",
    "            outputs = net(inputs)\n",
    "            loss = criterion(outputs, targets)\n",
    "            loss.backward()\n",
    "            optimizer.step()\n",
    "        scheduler.step()\n",
    "\n",
    "    net.eval()\n",
    "    return net"
   ]
  },
  {
   "cell_type": "code",
   "execution_count": 7,
   "id": "1e48d3d4",
   "metadata": {
    "execution": {
     "iopub.execute_input": "2023-08-11T17:21:24.159618Z",
     "iopub.status.busy": "2023-08-11T17:21:24.158867Z",
     "iopub.status.idle": "2023-08-11T17:45:51.071389Z",
     "shell.execute_reply": "2023-08-11T17:45:51.069025Z"
    },
    "papermill": {
     "duration": 1466.969893,
     "end_time": "2023-08-11T17:45:51.073913",
     "exception": false,
     "start_time": "2023-08-11T17:21:24.104020",
     "status": "completed"
    },
    "tags": []
   },
   "outputs": [
    {
     "name": "stdout",
     "output_type": "stream",
     "text": [
      "epoch 0\n"
     ]
    },
    {
     "name": "stderr",
     "output_type": "stream",
     "text": [
      "100%|██████████| 352/352 [04:37<00:00,  1.27it/s]\n"
     ]
    },
    {
     "name": "stdout",
     "output_type": "stream",
     "text": [
      "epoch 1\n"
     ]
    },
    {
     "name": "stderr",
     "output_type": "stream",
     "text": [
      "100%|██████████| 352/352 [05:10<00:00,  1.13it/s]\n"
     ]
    },
    {
     "name": "stdout",
     "output_type": "stream",
     "text": [
      "epoch 2\n"
     ]
    },
    {
     "name": "stderr",
     "output_type": "stream",
     "text": [
      "100%|██████████| 352/352 [05:07<00:00,  1.14it/s]\n"
     ]
    },
    {
     "name": "stdout",
     "output_type": "stream",
     "text": [
      "epoch 3\n"
     ]
    },
    {
     "name": "stderr",
     "output_type": "stream",
     "text": [
      "100%|██████████| 352/352 [04:45<00:00,  1.23it/s]\n"
     ]
    },
    {
     "name": "stdout",
     "output_type": "stream",
     "text": [
      "epoch 4\n"
     ]
    },
    {
     "name": "stderr",
     "output_type": "stream",
     "text": [
      "100%|██████████| 352/352 [04:45<00:00,  1.23it/s]\n"
     ]
    }
   ],
   "source": [
    "ft_model = resnet18(weights=None, num_classes=10)\n",
    "ft_model.load_state_dict(weights_pretrained)\n",
    "ft_model.to(DEVICE)\n",
    "\n",
    "# Execute the unlearing routine. This might take a few minutes.\n",
    "# If run on colab, be sure to be running it on  an instance with GPUs\n",
    "ft_model = unlearning(ft_model, retain_loader, forget_loader, test_loader)"
   ]
  },
  {
   "cell_type": "code",
   "execution_count": 8,
   "id": "0ad059f2",
   "metadata": {
    "execution": {
     "iopub.execute_input": "2023-08-11T17:45:51.504846Z",
     "iopub.status.busy": "2023-08-11T17:45:51.504360Z",
     "iopub.status.idle": "2023-08-11T17:47:00.908454Z",
     "shell.execute_reply": "2023-08-11T17:47:00.907370Z"
    },
    "papermill": {
     "duration": 69.621773,
     "end_time": "2023-08-11T17:47:00.911047",
     "exception": false,
     "start_time": "2023-08-11T17:45:51.289274",
     "status": "completed"
    },
    "tags": []
   },
   "outputs": [
    {
     "name": "stderr",
     "output_type": "stream",
     "text": [
      "100%|██████████| 352/352 [01:02<00:00,  5.66it/s]\n"
     ]
    },
    {
     "name": "stdout",
     "output_type": "stream",
     "text": [
      "Retain set accuracy: 98.8%\n"
     ]
    },
    {
     "name": "stderr",
     "output_type": "stream",
     "text": [
      "100%|██████████| 40/40 [00:07<00:00,  5.60it/s]"
     ]
    },
    {
     "name": "stdout",
     "output_type": "stream",
     "text": [
      "Test set accuracy: 83.1%\n"
     ]
    },
    {
     "name": "stderr",
     "output_type": "stream",
     "text": [
      "\n"
     ]
    }
   ],
   "source": [
    "print(f\"Retain set accuracy: {100.0 * accuracy(ft_model, retain_loader):0.1f}%\")\n",
    "print(f\"Test set accuracy: {100.0 * accuracy(ft_model, test_loader):0.1f}%\")"
   ]
  },
  {
   "cell_type": "code",
   "execution_count": 9,
   "id": "5371728e",
   "metadata": {
    "execution": {
     "iopub.execute_input": "2023-08-11T17:47:01.412341Z",
     "iopub.status.busy": "2023-08-11T17:47:01.411879Z",
     "iopub.status.idle": "2023-08-11T17:48:17.695028Z",
     "shell.execute_reply": "2023-08-11T17:48:17.693424Z"
    },
    "papermill": {
     "duration": 76.534998,
     "end_time": "2023-08-11T17:48:17.697601",
     "exception": false,
     "start_time": "2023-08-11T17:47:01.162603",
     "status": "completed"
    },
    "tags": []
   },
   "outputs": [
    {
     "name": "stderr",
     "output_type": "stream",
     "text": [
      "100%|██████████| 391/391 [01:09<00:00,  5.65it/s]\n",
      "100%|██████████| 40/40 [00:07<00:00,  5.66it/s]\n"
     ]
    }
   ],
   "source": [
    "def compute_losses(net, loader):\n",
    "    \"\"\"Auxiliary function to compute per-sample losses\"\"\"\n",
    "\n",
    "    criterion = nn.CrossEntropyLoss(reduction=\"none\")\n",
    "    all_losses = []\n",
    "\n",
    "    for inputs, targets in tqdm(loader):\n",
    "        inputs, targets = inputs.to(DEVICE), targets.to(DEVICE)\n",
    "\n",
    "        logits = net(inputs)\n",
    "        losses = criterion(logits, targets).numpy(force=True)\n",
    "        for l in losses:\n",
    "            all_losses.append(l)\n",
    "\n",
    "    return np.array(all_losses)\n",
    "\n",
    "\n",
    "train_losses = compute_losses(model, train_loader)\n",
    "test_losses = compute_losses(model, test_loader)"
   ]
  },
  {
   "cell_type": "code",
   "execution_count": 10,
   "id": "9f455fba",
   "metadata": {
    "execution": {
     "iopub.execute_input": "2023-08-11T17:48:18.272913Z",
     "iopub.status.busy": "2023-08-11T17:48:18.272450Z",
     "iopub.status.idle": "2023-08-11T17:48:19.662831Z",
     "shell.execute_reply": "2023-08-11T17:48:19.661608Z"
    },
    "papermill": {
     "duration": 1.681304,
     "end_time": "2023-08-11T17:48:19.665261",
     "exception": false,
     "start_time": "2023-08-11T17:48:17.983957",
     "status": "completed"
    },
    "tags": []
   },
   "outputs": [
    {
     "data": {
      "image/png": "[encoded data removed]",
      "text/plain": [
       "<Figure size 640x480 with 1 Axes>"
      ]
     },
     "metadata": {},
     "output_type": "display_data"
    }
   ],
   "source": [
    "# plot losses on train and test set\n",
    "plt.title(\"Losses on train and test set (pre-trained model)\")\n",
    "plt.hist(test_losses, density=True, alpha=0.5, bins=50, label=\"Test set\")\n",
    "plt.hist(train_losses, density=True, alpha=0.5, bins=50, label=\"Train set\")\n",
    "plt.xlabel(\"Loss\", fontsize=14)\n",
    "plt.ylabel(\"Frequency\", fontsize=14)\n",
    "plt.xlim((0, np.max(test_losses)))\n",
    "plt.yscale(\"log\")\n",
    "plt.legend(frameon=False, fontsize=14)\n",
    "ax = plt.gca()\n",
    "ax.spines[\"top\"].set_visible(False)\n",
    "ax.spines[\"right\"].set_visible(False)\n",
    "plt.show()"
   ]
  },
  {
   "cell_type": "code",
   "execution_count": 11,
   "id": "1482a499",
   "metadata": {
    "execution": {
     "iopub.execute_input": "2023-08-11T17:48:20.267958Z",
     "iopub.status.busy": "2023-08-11T17:48:20.266605Z",
     "iopub.status.idle": "2023-08-11T17:48:20.274899Z",
     "shell.execute_reply": "2023-08-11T17:48:20.273846Z"
    },
    "papermill": {
     "duration": 0.325663,
     "end_time": "2023-08-11T17:48:20.277121",
     "exception": false,
     "start_time": "2023-08-11T17:48:19.951458",
     "status": "completed"
    },
    "tags": []
   },
   "outputs": [],
   "source": [
    "def simple_mia(sample_loss, members, n_splits=10, random_state=0):\n",
    "    \"\"\"Computes cross-validation score of a membership inference attack.\n",
    "\n",
    "    Args:\n",
    "      sample_loss : array_like of shape (n,).\n",
    "        objective function evaluated on n samples.\n",
    "      members : array_like of shape (n,),\n",
    "        whether a sample was used for training.\n",
    "      n_splits: int\n",
    "        number of splits to use in the cross-validation.\n",
    "    Returns:\n",
    "      scores : array_like of size (n_splits,)\n",
    "    \"\"\"\n",
    "\n",
    "    unique_members = np.unique(members)\n",
    "    if not np.all(unique_members == np.array([0, 1])):\n",
    "        raise ValueError(\"members should only have 0 and 1s\")\n",
    "\n",
    "    attack_model = linear_model.LogisticRegression()\n",
    "    cv = model_selection.StratifiedShuffleSplit(\n",
    "        n_splits=n_splits, random_state=random_state\n",
    "    )\n",
    "    return model_selection.cross_val_score(\n",
    "        attack_model, sample_loss, members, cv=cv, scoring=\"accuracy\"\n",
    "    )"
   ]
  },
  {
   "cell_type": "code",
   "execution_count": 12,
   "id": "f8da0461",
   "metadata": {
    "execution": {
     "iopub.execute_input": "2023-08-11T17:48:20.855326Z",
     "iopub.status.busy": "2023-08-11T17:48:20.854588Z",
     "iopub.status.idle": "2023-08-11T17:48:28.498821Z",
     "shell.execute_reply": "2023-08-11T17:48:28.497739Z"
    },
    "papermill": {
     "duration": 7.933866,
     "end_time": "2023-08-11T17:48:28.501351",
     "exception": false,
     "start_time": "2023-08-11T17:48:20.567485",
     "status": "completed"
    },
    "tags": []
   },
   "outputs": [
    {
     "name": "stderr",
     "output_type": "stream",
     "text": [
      "100%|██████████| 40/40 [00:07<00:00,  5.38it/s]\n"
     ]
    },
    {
     "name": "stdout",
     "output_type": "stream",
     "text": [
      "The MIA has an accuracy of 0.577 on forgotten vs unseen images\n"
     ]
    }
   ],
   "source": [
    "forget_losses = compute_losses(model, forget_loader)\n",
    "\n",
    "# Since we have more forget losses than test losses, sub-sample them, to have a class-balanced dataset.\n",
    "np.random.shuffle(forget_losses)\n",
    "forget_losses = forget_losses[: len(test_losses)]\n",
    "\n",
    "samples_mia = np.concatenate((test_losses, forget_losses)).reshape((-1, 1))\n",
    "labels_mia = [0] * len(test_losses) + [1] * len(forget_losses)\n",
    "\n",
    "mia_scores = simple_mia(samples_mia, labels_mia)\n",
    "\n",
    "print(\n",
    "    f\"The MIA has an accuracy of {mia_scores.mean():.3f} on forgotten vs unseen images\"\n",
    ")"
   ]
  },
  {
   "cell_type": "code",
   "execution_count": 13,
   "id": "aedc2831",
   "metadata": {
    "execution": {
     "iopub.execute_input": "2023-08-11T17:48:29.156152Z",
     "iopub.status.busy": "2023-08-11T17:48:29.155443Z",
     "iopub.status.idle": "2023-08-11T17:48:43.224057Z",
     "shell.execute_reply": "2023-08-11T17:48:43.222419Z"
    },
    "papermill": {
     "duration": 14.434994,
     "end_time": "2023-08-11T17:48:43.227009",
     "exception": false,
     "start_time": "2023-08-11T17:48:28.792015",
     "status": "completed"
    },
    "tags": []
   },
   "outputs": [
    {
     "name": "stderr",
     "output_type": "stream",
     "text": [
      "100%|██████████| 40/40 [00:07<00:00,  5.71it/s]\n",
      "100%|██████████| 40/40 [00:07<00:00,  5.68it/s]\n"
     ]
    }
   ],
   "source": [
    "ft_forget_losses = compute_losses(ft_model, forget_loader)\n",
    "ft_test_losses = compute_losses(ft_model, test_loader)\n",
    "\n",
    "# make sure we have a balanced dataset for the MIA\n",
    "assert len(ft_test_losses) == len(ft_forget_losses)\n",
    "\n",
    "ft_samples_mia = np.concatenate((ft_test_losses, ft_forget_losses)).reshape((-1, 1))\n",
    "labels_mia = [0] * len(ft_test_losses) + [1] * len(ft_forget_losses)"
   ]
  },
  {
   "cell_type": "code",
   "execution_count": 14,
   "id": "83a82bd7",
   "metadata": {
    "execution": {
     "iopub.execute_input": "2023-08-11T17:48:43.844371Z",
     "iopub.status.busy": "2023-08-11T17:48:43.843217Z",
     "iopub.status.idle": "2023-08-11T17:48:44.027153Z",
     "shell.execute_reply": "2023-08-11T17:48:44.025690Z"
    },
    "papermill": {
     "duration": 0.495804,
     "end_time": "2023-08-11T17:48:44.029996",
     "exception": false,
     "start_time": "2023-08-11T17:48:43.534192",
     "status": "completed"
    },
    "tags": []
   },
   "outputs": [
    {
     "name": "stdout",
     "output_type": "stream",
     "text": [
      "The MIA has an accuracy of 0.513 on forgotten vs unseen images\n"
     ]
    }
   ],
   "source": [
    "ft_mia_scores = simple_mia(ft_samples_mia, labels_mia)\n",
    "\n",
    "print(\n",
    "    f\"The MIA has an accuracy of {ft_mia_scores.mean():.3f} on forgotten vs unseen images\"\n",
    ")"
   ]
  },
  {
   "cell_type": "code",
   "execution_count": 15,
   "id": "952a746a",
   "metadata": {
    "execution": {
     "iopub.execute_input": "2023-08-11T17:48:44.652223Z",
     "iopub.status.busy": "2023-08-11T17:48:44.651044Z",
     "iopub.status.idle": "2023-08-11T17:48:46.315321Z",
     "shell.execute_reply": "2023-08-11T17:48:46.314107Z"
    },
    "papermill": {
     "duration": 1.972869,
     "end_time": "2023-08-11T17:48:46.317804",
     "exception": false,
     "start_time": "2023-08-11T17:48:44.344935",
     "status": "completed"
    },
    "tags": []
   },
   "outputs": [
    {
     "data": {
      "image/png": "[encoded data removed]",
      "text/plain": [
       "<Figure size 1600x600 with 2 Axes>"
      ]
     },
     "metadata": {},
     "output_type": "display_data"
    }
   ],
   "source": [
    "fig, (ax1, ax2) = plt.subplots(1, 2, figsize=(16, 6))\n",
    "\n",
    "ax1.set_title(f\"Pre-trained model.\\nAttack accuracy: {mia_scores.mean():0.2f}\")\n",
    "ax1.hist(test_losses, density=True, alpha=0.5, bins=50, label=\"Test set\")\n",
    "ax1.hist(forget_losses, density=True, alpha=0.5, bins=50, label=\"Forget set\")\n",
    "\n",
    "ax2.set_title(\n",
    "    f\"Unlearned by fine-tuning.\\nAttack accuracy: {ft_mia_scores.mean():0.2f}\"\n",
    ")\n",
    "ax2.hist(ft_test_losses, density=True, alpha=0.5, bins=50, label=\"Test set\")\n",
    "ax2.hist(ft_forget_losses, density=True, alpha=0.5, bins=50, label=\"Forget set\")\n",
    "\n",
    "ax1.set_xlabel(\"Loss\")\n",
    "ax2.set_xlabel(\"Loss\")\n",
    "ax1.set_ylabel(\"Frequency\")\n",
    "ax1.set_yscale(\"log\")\n",
    "ax2.set_yscale(\"log\")\n",
    "ax1.set_xlim((0, np.max(test_losses)))\n",
    "ax2.set_xlim((0, np.max(test_losses)))\n",
    "for ax in (ax1, ax2):\n",
    "    ax.spines[\"top\"].set_visible(False)\n",
    "    ax.spines[\"right\"].set_visible(False)\n",
    "ax1.legend(frameon=False, fontsize=14)\n",
    "plt.show()"
   ]
  },
  {
   "cell_type": "markdown",
   "id": "392f245c",
   "metadata": {
    "papermill": {
     "duration": 0.299666,
     "end_time": "2023-08-11T17:48:46.920493",
     "exception": false,
     "start_time": "2023-08-11T17:48:46.620827",
     "status": "completed"
    },
    "tags": []
   },
   "source": [
    "## Load Re-trained model"
   ]
  },
  {
   "cell_type": "code",
   "execution_count": 16,
   "id": "10fb8f1e",
   "metadata": {
    "execution": {
     "iopub.execute_input": "2023-08-11T17:48:47.592984Z",
     "iopub.status.busy": "2023-08-11T17:48:47.592549Z",
     "iopub.status.idle": "2023-08-11T17:49:57.495625Z",
     "shell.execute_reply": "2023-08-11T17:49:57.494068Z"
    },
    "papermill": {
     "duration": 70.276482,
     "end_time": "2023-08-11T17:49:57.498253",
     "exception": false,
     "start_time": "2023-08-11T17:48:47.221771",
     "status": "completed"
    },
    "tags": []
   },
   "outputs": [
    {
     "name": "stderr",
     "output_type": "stream",
     "text": [
      "100%|██████████| 352/352 [01:02<00:00,  5.66it/s]\n"
     ]
    },
    {
     "name": "stdout",
     "output_type": "stream",
     "text": [
      "Retain set accuracy: 98.4%\n"
     ]
    },
    {
     "name": "stderr",
     "output_type": "stream",
     "text": [
      "100%|██████████| 40/40 [00:07<00:00,  5.70it/s]"
     ]
    },
    {
     "name": "stdout",
     "output_type": "stream",
     "text": [
      "Forget set accuracy: 98.5%\n"
     ]
    },
    {
     "name": "stderr",
     "output_type": "stream",
     "text": [
      "\n"
     ]
    }
   ],
   "source": [
    "weights_pretrained = torch.load('/kaggle/input/unlearning-cifar10-resnet18-weights/unlearning-cifar10-resnet18-weights/retrain_weights_resnet18_cifar10.pth', map_location=DEVICE)\n",
    "\n",
    "# load model with pre-trained weights\n",
    "rt_model = resnet18(weights=None, num_classes=10)\n",
    "rt_model.load_state_dict(weights_pretrained)\n",
    "rt_model.to(DEVICE)\n",
    "rt_model.eval()\n",
    "\n",
    "# print its accuracy on retain and forget set\n",
    "print(f\"Retain set accuracy: {100.0 * accuracy(rt_model, retain_loader):0.1f}%\")\n",
    "print(f\"Forget set accuracy: {100.0 * accuracy(rt_model, forget_loader):0.1f}%\")"
   ]
  },
  {
   "cell_type": "code",
   "execution_count": 17,
   "id": "e08b0b14",
   "metadata": {
    "execution": {
     "iopub.execute_input": "2023-08-11T17:49:58.214614Z",
     "iopub.status.busy": "2023-08-11T17:49:58.213202Z",
     "iopub.status.idle": "2023-08-11T17:50:12.984245Z",
     "shell.execute_reply": "2023-08-11T17:50:12.983197Z"
    },
    "papermill": {
     "duration": 15.117803,
     "end_time": "2023-08-11T17:50:12.987224",
     "exception": false,
     "start_time": "2023-08-11T17:49:57.869421",
     "status": "completed"
    },
    "tags": []
   },
   "outputs": [
    {
     "name": "stderr",
     "output_type": "stream",
     "text": [
      "100%|██████████| 40/40 [00:07<00:00,  5.39it/s]\n",
      "100%|██████████| 40/40 [00:07<00:00,  5.46it/s]\n"
     ]
    }
   ],
   "source": [
    "rt_test_losses = compute_losses(rt_model, test_loader)\n",
    "rt_forget_losses = compute_losses(rt_model, forget_loader)\n",
    "\n",
    "rt_samples_mia = np.concatenate((rt_test_losses, rt_forget_losses)).reshape((-1, 1))\n",
    "labels_mia = [0] * len(rt_test_losses) + [1] * len(rt_forget_losses)"
   ]
  },
  {
   "cell_type": "code",
   "execution_count": 18,
   "id": "b1c9b7ab",
   "metadata": {
    "execution": {
     "iopub.execute_input": "2023-08-11T17:50:13.681700Z",
     "iopub.status.busy": "2023-08-11T17:50:13.680473Z",
     "iopub.status.idle": "2023-08-11T17:50:13.875175Z",
     "shell.execute_reply": "2023-08-11T17:50:13.874134Z"
    },
    "papermill": {
     "duration": 0.542411,
     "end_time": "2023-08-11T17:50:13.877535",
     "exception": false,
     "start_time": "2023-08-11T17:50:13.335124",
     "status": "completed"
    },
    "tags": []
   },
   "outputs": [
    {
     "name": "stdout",
     "output_type": "stream",
     "text": [
      "The MIA has an accuracy of 0.573 on forgotten vs unseen images\n"
     ]
    }
   ],
   "source": [
    "rt_mia_scores = simple_mia(rt_samples_mia, labels_mia)\n",
    "\n",
    "print(\n",
    "    f\"The MIA has an accuracy of {rt_mia_scores.mean():.3f} on forgotten vs unseen images\"\n",
    ")"
   ]
  },
  {
   "cell_type": "code",
   "execution_count": 19,
   "id": "2803991a",
   "metadata": {
    "execution": {
     "iopub.execute_input": "2023-08-11T17:50:14.573946Z",
     "iopub.status.busy": "2023-08-11T17:50:14.573531Z",
     "iopub.status.idle": "2023-08-11T17:50:16.185975Z",
     "shell.execute_reply": "2023-08-11T17:50:16.184511Z"
    },
    "papermill": {
     "duration": 1.962291,
     "end_time": "2023-08-11T17:50:16.188716",
     "exception": false,
     "start_time": "2023-08-11T17:50:14.226425",
     "status": "completed"
    },
    "tags": []
   },
   "outputs": [
    {
     "data": {
      "image/png": "[encoded data removed]",
      "text/plain": [
       "<Figure size 1600x600 with 2 Axes>"
      ]
     },
     "metadata": {},
     "output_type": "display_data"
    }
   ],
   "source": [
    "fig, (ax1, ax2) = plt.subplots(1, 2, figsize=(16, 6))\n",
    "\n",
    "ax1.set_title(f\"Re-trained model.\\nAttack accuracy: {rt_mia_scores.mean():0.2f}\")\n",
    "ax1.hist(rt_test_losses, density=True, alpha=0.5, bins=50, label=\"Test set\")\n",
    "ax1.hist(rt_forget_losses, density=True, alpha=0.5, bins=50, label=\"Forget set\")\n",
    "\n",
    "ax2.set_title(\n",
    "    f\"Unlearned by fine-tuning.\\nAttack accuracy: {ft_mia_scores.mean():0.2f}\"\n",
    ")\n",
    "ax2.hist(ft_test_losses, density=True, alpha=0.5, bins=50, label=\"Test set\")\n",
    "ax2.hist(ft_forget_losses, density=True, alpha=0.5, bins=50, label=\"Forget set\")\n",
    "\n",
    "ax1.set_xlabel(\"Loss\")\n",
    "ax2.set_xlabel(\"Loss\")\n",
    "ax1.set_ylabel(\"Frequency\")\n",
    "ax1.set_yscale(\"log\")\n",
    "ax2.set_yscale(\"log\")\n",
    "ax1.set_xlim((0, np.max(test_losses)))\n",
    "ax2.set_xlim((0, np.max(test_losses)))\n",
    "for ax in (ax1, ax2):\n",
    "    ax.spines[\"top\"].set_visible(False)\n",
    "    ax.spines[\"right\"].set_visible(False)\n",
    "ax1.legend(frameon=False, fontsize=14)\n",
    "plt.show()"
   ]
  },
  {
   "cell_type": "markdown",
   "id": "049af020",
   "metadata": {
    "papermill": {
     "duration": 0.41649,
     "end_time": "2023-08-11T17:50:16.951588",
     "exception": false,
     "start_time": "2023-08-11T17:50:16.535098",
     "status": "completed"
    },
    "tags": []
   },
   "source": [
    "# Attempts:"
   ]
  },
  {
   "cell_type": "markdown",
   "id": "2c9a9148",
   "metadata": {
    "papermill": {
     "duration": 0.341928,
     "end_time": "2023-08-11T17:50:17.644184",
     "exception": false,
     "start_time": "2023-08-11T17:50:17.302256",
     "status": "completed"
    },
    "tags": []
   },
   "source": [
    "## Attempt v0.1\n",
    "Using the [Fast Yet Effective Machine Unlearning](https://arxiv.org/pdf/2111.08947.pdf) with [code](https://github.com/vikram2000b/Fast-Machine-Unlearning/blob/main/Machine%20Unlearning.ipynb) as inspiration. The idea behind this model is to selectively train a layer to generate a noisy image to be added to each of the target forget images. A few questions still to be answered:\n",
    "- Can the noisy image be generated for multiple images at the same time? As in, pairs of 2/5/10/... images are used to train the noise. That would significantly reduce the amount of time it takes to forget.\n",
    "- Is it better to generate this noisy image for groups based on classes?"
   ]
  },
  {
   "cell_type": "code",
   "execution_count": 20,
   "id": "c4a38657",
   "metadata": {
    "execution": {
     "iopub.execute_input": "2023-08-11T17:50:18.342773Z",
     "iopub.status.busy": "2023-08-11T17:50:18.341841Z",
     "iopub.status.idle": "2023-08-11T17:50:18.350047Z",
     "shell.execute_reply": "2023-08-11T17:50:18.348506Z"
    },
    "papermill": {
     "duration": 0.363023,
     "end_time": "2023-08-11T17:50:18.352443",
     "exception": false,
     "start_time": "2023-08-11T17:50:17.989420",
     "status": "completed"
    },
    "tags": []
   },
   "outputs": [],
   "source": [
    "# Create Noise Class\n",
    "class Noise(nn.Module):\n",
    "    def __init__(self, *dim):\n",
    "        super().__init__()\n",
    "        self.noise = torch.nn.Parameter(torch.randn(*dim), requires_grad = True)\n",
    "    \n",
    "    def forward(self):\n",
    "        return self.noise"
   ]
  },
  {
   "cell_type": "code",
   "execution_count": 21,
   "id": "4c70c495",
   "metadata": {
    "execution": {
     "iopub.execute_input": "2023-08-11T17:50:19.042529Z",
     "iopub.status.busy": "2023-08-11T17:50:19.041815Z",
     "iopub.status.idle": "2023-08-11T17:50:19.063692Z",
     "shell.execute_reply": "2023-08-11T17:50:19.062482Z"
    },
    "papermill": {
     "duration": 0.369914,
     "end_time": "2023-08-11T17:50:19.066510",
     "exception": false,
     "start_time": "2023-08-11T17:50:18.696596",
     "status": "completed"
    },
    "tags": []
   },
   "outputs": [],
   "source": [
    "def train_noise(net, noise, inputs, targets):\n",
    "    \"\"\"Train the noisy layer\n",
    "    \n",
    "    Args:\n",
    "        net : nn.Module\n",
    "            pre-trained model with weights locked\n",
    "        noise : nn.Module\n",
    "            noisy layer\n",
    "        inputs : ???\n",
    "            subset of images from the forget\n",
    "        targets : ???\n",
    "            vector of labels\n",
    "    \n",
    "    Returns:\n",
    "        noise : np.array\n",
    "    \n",
    "    \"\"\"\n",
    "    \n",
    "#     print(noise.get_parameter('noise'))\n",
    "    \n",
    "    epochs = 50\n",
    "    \n",
    "    criterion = nn.CrossEntropyLoss()\n",
    "    optimizer = optim.SGD(noise.parameters(), lr=0.1, momentum=0.9, weight_decay=5e-4)\n",
    "    scheduler = torch.optim.lr_scheduler.CosineAnnealingLR(optimizer, T_max=epochs)\n",
    "\n",
    "    print('Training Noise:')\n",
    "    for _ in tqdm(range(epochs)):\n",
    "#         print(f'epoch {_}')\n",
    "        inputs, targets = inputs.to(DEVICE), targets.to(DEVICE)\n",
    "        optimizer.zero_grad()\n",
    "        outputs = net(inputs + noise())\n",
    "        loss = criterion(outputs, targets)\n",
    "        loss = loss * -1\n",
    "#         print(loss.detach())\n",
    "        loss.backward()\n",
    "        optimizer.step()\n",
    "    scheduler.step()\n",
    "\n",
    "    return noise\n",
    "    \n",
    "\n",
    "def degrade_model(net, noise, inputs, targets):\n",
    "    \"\"\"Takes the given model and noise and uses that to\n",
    "    degrade the model\n",
    "    \n",
    "    Args:\n",
    "        net : nn.Module\n",
    "            pre-trained model to degrade\n",
    "        noise : nn.Module\n",
    "            generated noise image to add to inputs\n",
    "        target : ???\n",
    "        \n",
    "    Returns:\n",
    "        net : nn.Module\n",
    "            Degraded network\n",
    "    \n",
    "    \"\"\"\n",
    "    epochs = 3\n",
    "    \n",
    "    criterion = nn.CrossEntropyLoss()\n",
    "    optimizer = optim.SGD(net.parameters(), lr=0.1, momentum=0.9, weight_decay=5e-4)\n",
    "    scheduler = torch.optim.lr_scheduler.CosineAnnealingLR(optimizer, T_max=epochs)\n",
    "    net.train()\n",
    "    \n",
    "    print('Degrading Model:')\n",
    "    for _ in tqdm(range(epochs)):\n",
    "#         print(f'epoch {_}')\n",
    "        inputs, targets = inputs.to(DEVICE), targets.to(DEVICE)\n",
    "        optimizer.zero_grad()\n",
    "        outputs = net(inputs + noise())\n",
    "        loss = criterion(outputs, targets)\n",
    "#         print(loss.detach())\n",
    "        loss.backward()\n",
    "        optimizer.step()\n",
    "    scheduler.step()\n",
    "\n",
    "    return net\n",
    "    \n",
    "def repair_model(net, retain, itter):\n",
    "    \"\"\"Repairs the given model using a couple itterations\n",
    "    of the retain dataset\n",
    "    \n",
    "    Args:\n",
    "        net: nn.Module\n",
    "            degraded model\n",
    "        retain : torch.utils.data.DataLoader.\n",
    "            Dataset loader for access to the retain set. This is the subset\n",
    "            of the training set that we don't want to forget.\n",
    "        itter: int\n",
    "            Number of iterations to repair the model for\n",
    "    \n",
    "    Returns:\n",
    "        net: nn.Module\n",
    "            repaired model\n",
    "    \n",
    "    \"\"\"\n",
    "    criterion = nn.CrossEntropyLoss()\n",
    "    optimizer = optim.SGD(net.parameters(), lr=0.1, momentum=0.9, weight_decay=5e-4)\n",
    "    scheduler = torch.optim.lr_scheduler.CosineAnnealingLR(optimizer, T_max=itter)\n",
    "    net.train()\n",
    "\n",
    "    print('Repairing Model:')\n",
    "    for _ in tqdm(range(itter)):\n",
    "#         print(f'itter {_}')\n",
    "#         for inputs, targets in tqdm(retain):\n",
    "        inputs, targets =  next(iter(retain))\n",
    "        inputs, targets = inputs.to(DEVICE), targets.to(DEVICE)\n",
    "        optimizer.zero_grad()\n",
    "        outputs = net(inputs)\n",
    "        loss = criterion(outputs, targets)\n",
    "        loss.backward()\n",
    "        optimizer.step()\n",
    "    scheduler.step()\n",
    "\n",
    "    net.eval()\n",
    "    return net\n",
    "    \n",
    "    \n",
    "    \n",
    "def unlearner_v01(net, retain, forget, validation, f_size):\n",
    "    \"\"\"Unlearning through noise.\n",
    "\n",
    "    Args:\n",
    "        net : nn.Module.\n",
    "            pre-trained model to use as base of unlearning.\n",
    "        retain : torch.utils.data.DataLoader.\n",
    "            Dataset loader for access to the retain set. This is the subset\n",
    "            of the training set that we don't want to forget.\n",
    "        forget : torch.utils.data.DataLoader.\n",
    "            Dataset loader for access to the forget set. This is the subset\n",
    "            of the training set that we want to forget. This method doesn't\n",
    "            make use of the forget set.\n",
    "        validation : torch.utils.data.DataLoader.\n",
    "            Dataset loader for access to the validation set. This method doesn't\n",
    "            make use of the validation set.\n",
    "            \n",
    "        f_size : int\n",
    "            The size of the mini-batches used for the training of the noisy image\n",
    "        \n",
    "    Returns:\n",
    "          new_net : nn.Module\n",
    "              Updated model\n",
    "    \"\"\"\n",
    "    \n",
    "    # Train the noise layer on the forget dataset sample\n",
    "    inputs, targets = next(iter(forget))\n",
    "    \n",
    "    noise = Noise(inputs.shape).to(DEVICE)\n",
    "    \n",
    "    noise = train_noise(net.eval(), noise.train(), inputs, targets)\n",
    "    \n",
    "    # Train the network using the noise layer\n",
    "    net = degrade_model(net.train(), noise.eval(), inputs, targets)\n",
    "    \n",
    "    # Repair by training with sample of retain dataset sample\n",
    "    net = repair_model(net.train(), retain, 300)\n",
    "    \n",
    "    return net\n"
   ]
  },
  {
   "cell_type": "code",
   "execution_count": 22,
   "id": "ea9eba55",
   "metadata": {
    "execution": {
     "iopub.execute_input": "2023-08-11T17:50:19.832216Z",
     "iopub.status.busy": "2023-08-11T17:50:19.831152Z",
     "iopub.status.idle": "2023-08-11T17:56:16.000241Z",
     "shell.execute_reply": "2023-08-11T17:56:15.998948Z"
    },
    "papermill": {
     "duration": 356.585529,
     "end_time": "2023-08-11T17:56:16.002682",
     "exception": false,
     "start_time": "2023-08-11T17:50:19.417153",
     "status": "completed"
    },
    "scrolled": true,
    "tags": []
   },
   "outputs": [
    {
     "name": "stdout",
     "output_type": "stream",
     "text": [
      "Training Noise:\n"
     ]
    },
    {
     "name": "stderr",
     "output_type": "stream",
     "text": [
      "100%|██████████| 50/50 [00:38<00:00,  1.29it/s]\n"
     ]
    },
    {
     "name": "stdout",
     "output_type": "stream",
     "text": [
      "Degrading Model:\n"
     ]
    },
    {
     "name": "stderr",
     "output_type": "stream",
     "text": [
      "100%|██████████| 3/3 [00:02<00:00,  1.06it/s]\n"
     ]
    },
    {
     "name": "stdout",
     "output_type": "stream",
     "text": [
      "Repairing Model:\n"
     ]
    },
    {
     "name": "stderr",
     "output_type": "stream",
     "text": [
      " 36%|███▌      | 107/300 [01:52<03:27,  1.07s/it]Traceback (most recent call last):\n",
      "  File \"/opt/conda/lib/python3.10/multiprocessing/util.py\", line 300, in _run_finalizers\n",
      "    finalizer()\n",
      "  File \"/opt/conda/lib/python3.10/multiprocessing/util.py\", line 224, in __call__\n",
      "    res = self._callback(*self._args, **self._kwargs)\n",
      "  File \"/opt/conda/lib/python3.10/multiprocessing/util.py\", line 133, in _remove_temp_dir\n",
      "    rmtree(tempdir)\n",
      "  File \"/opt/conda/lib/python3.10/shutil.py\", line 731, in rmtree\n",
      "    onerror(os.rmdir, path, sys.exc_info())\n",
      "  File \"/opt/conda/lib/python3.10/shutil.py\", line 729, in rmtree\n",
      "    os.rmdir(path)\n",
      "OSError: [Errno 39] Directory not empty: '/tmp/pymp-eeyphf3r'\n",
      " 79%|███████▉  | 238/300 [04:10<01:05,  1.05s/it]Traceback (most recent call last):\n",
      "  File \"/opt/conda/lib/python3.10/multiprocessing/util.py\", line 300, in _run_finalizers\n",
      "    finalizer()\n",
      "  File \"/opt/conda/lib/python3.10/multiprocessing/util.py\", line 224, in __call__\n",
      "    res = self._callback(*self._args, **self._kwargs)\n",
      "  File \"/opt/conda/lib/python3.10/multiprocessing/util.py\", line 133, in _remove_temp_dir\n",
      "    rmtree(tempdir)\n",
      "  File \"/opt/conda/lib/python3.10/shutil.py\", line 731, in rmtree\n",
      "    onerror(os.rmdir, path, sys.exc_info())\n",
      "  File \"/opt/conda/lib/python3.10/shutil.py\", line 729, in rmtree\n",
      "    os.rmdir(path)\n",
      "OSError: [Errno 39] Directory not empty: '/tmp/pymp-ozze_4xu'\n",
      "100%|██████████| 300/300 [05:14<00:00,  1.05s/it]\n"
     ]
    }
   ],
   "source": [
    "v01_model = unlearner_v01(ft_model, retain_loader, forget_loader, test_loader, None)"
   ]
  },
  {
   "cell_type": "code",
   "execution_count": 23,
   "id": "5c196faa",
   "metadata": {
    "execution": {
     "iopub.execute_input": "2023-08-11T17:56:16.765462Z",
     "iopub.status.busy": "2023-08-11T17:56:16.764229Z",
     "iopub.status.idle": "2023-08-11T17:58:40.271600Z",
     "shell.execute_reply": "2023-08-11T17:58:40.270140Z"
    },
    "papermill": {
     "duration": 143.887748,
     "end_time": "2023-08-11T17:58:40.274958",
     "exception": false,
     "start_time": "2023-08-11T17:56:16.387210",
     "status": "completed"
    },
    "tags": []
   },
   "outputs": [
    {
     "name": "stderr",
     "output_type": "stream",
     "text": [
      "100%|██████████| 391/391 [01:07<00:00,  5.77it/s]\n"
     ]
    },
    {
     "name": "stdout",
     "output_type": "stream",
     "text": [
      "Train set accuracy: 81.6%\n"
     ]
    },
    {
     "name": "stderr",
     "output_type": "stream",
     "text": [
      "100%|██████████| 40/40 [00:06<00:00,  5.72it/s]\n"
     ]
    },
    {
     "name": "stdout",
     "output_type": "stream",
     "text": [
      "Test set accuracy: 73.4%\n"
     ]
    },
    {
     "name": "stderr",
     "output_type": "stream",
     "text": [
      "100%|██████████| 352/352 [01:01<00:00,  5.70it/s]\n"
     ]
    },
    {
     "name": "stdout",
     "output_type": "stream",
     "text": [
      "Retain set accuracy: 82.4%\n"
     ]
    },
    {
     "name": "stderr",
     "output_type": "stream",
     "text": [
      "100%|██████████| 40/40 [00:06<00:00,  5.72it/s]"
     ]
    },
    {
     "name": "stdout",
     "output_type": "stream",
     "text": [
      "Forget set accuracy: 74.3%\n"
     ]
    },
    {
     "name": "stderr",
     "output_type": "stream",
     "text": [
      "\n"
     ]
    }
   ],
   "source": [
    "print(f\"Train set accuracy: {100.0 * accuracy(v01_model, train_loader):0.1f}%\")\n",
    "print(f\"Test set accuracy: {100.0 * accuracy(v01_model, test_loader):0.1f}%\")\n",
    "print(f\"Retain set accuracy: {100.0 * accuracy(v01_model, retain_loader):0.1f}%\")\n",
    "print(f\"Forget set accuracy: {100.0 * accuracy(v01_model, forget_loader):0.1f}%\")"
   ]
  },
  {
   "cell_type": "code",
   "execution_count": 24,
   "id": "0a42e7bf",
   "metadata": {
    "execution": {
     "iopub.execute_input": "2023-08-11T17:58:41.199174Z",
     "iopub.status.busy": "2023-08-11T17:58:41.198728Z",
     "iopub.status.idle": "2023-08-11T17:58:55.781196Z",
     "shell.execute_reply": "2023-08-11T17:58:55.779805Z"
    },
    "papermill": {
     "duration": 15.03994,
     "end_time": "2023-08-11T17:58:55.784133",
     "exception": false,
     "start_time": "2023-08-11T17:58:40.744193",
     "status": "completed"
    },
    "tags": []
   },
   "outputs": [
    {
     "name": "stderr",
     "output_type": "stream",
     "text": [
      "100%|██████████| 40/40 [00:06<00:00,  5.74it/s]\n",
      "100%|██████████| 40/40 [00:07<00:00,  5.27it/s]\n"
     ]
    }
   ],
   "source": [
    "v01_test_losses = compute_losses(v01_model, test_loader)\n",
    "v01_forget_losses = compute_losses(v01_model, forget_loader)\n",
    "\n",
    "v01_samples_mia = np.concatenate((v01_test_losses, v01_forget_losses)).reshape((-1, 1))\n",
    "labels_mia = [0] * len(v01_test_losses) + [1] * len(v01_forget_losses)"
   ]
  },
  {
   "cell_type": "code",
   "execution_count": 25,
   "id": "c87f96ce",
   "metadata": {
    "execution": {
     "iopub.execute_input": "2023-08-11T17:58:56.707727Z",
     "iopub.status.busy": "2023-08-11T17:58:56.706973Z",
     "iopub.status.idle": "2023-08-11T17:58:56.875433Z",
     "shell.execute_reply": "2023-08-11T17:58:56.874267Z"
    },
    "papermill": {
     "duration": 0.63367,
     "end_time": "2023-08-11T17:58:56.877664",
     "exception": false,
     "start_time": "2023-08-11T17:58:56.243994",
     "status": "completed"
    },
    "tags": []
   },
   "outputs": [
    {
     "name": "stdout",
     "output_type": "stream",
     "text": [
      "The MIA has an accuracy of 0.506 on forgotten vs unseen images\n"
     ]
    }
   ],
   "source": [
    "v01_mia_scores = simple_mia(v01_samples_mia, labels_mia)\n",
    "\n",
    "print(\n",
    "    f\"The MIA has an accuracy of {v01_mia_scores.mean():.3f} on forgotten vs unseen images\"\n",
    ")"
   ]
  },
  {
   "cell_type": "code",
   "execution_count": 26,
   "id": "0957bcbe",
   "metadata": {
    "execution": {
     "iopub.execute_input": "2023-08-11T17:58:57.880603Z",
     "iopub.status.busy": "2023-08-11T17:58:57.879819Z",
     "iopub.status.idle": "2023-08-11T17:58:59.484733Z",
     "shell.execute_reply": "2023-08-11T17:58:59.483564Z"
    },
    "papermill": {
     "duration": 2.067456,
     "end_time": "2023-08-11T17:58:59.487389",
     "exception": false,
     "start_time": "2023-08-11T17:58:57.419933",
     "status": "completed"
    },
    "tags": []
   },
   "outputs": [
    {
     "data": {
      "image/png": "[encoded data removed]",
      "text/plain": [
       "<Figure size 1600x600 with 2 Axes>"
      ]
     },
     "metadata": {},
     "output_type": "display_data"
    }
   ],
   "source": [
    "fig, (ax1, ax2) = plt.subplots(1, 2, figsize=(16, 6))\n",
    "\n",
    "ax1.set_title(f\"Re-trained model.\\nAttack accuracy: {rt_mia_scores.mean():0.2f}\")\n",
    "ax1.hist(rt_test_losses, density=True, alpha=0.5, bins=50, label=\"Test set\")\n",
    "ax1.hist(rt_forget_losses, density=True, alpha=0.5, bins=50, label=\"Forget set\")\n",
    "\n",
    "ax2.set_title(\n",
    "    f\"Attempt v0.1.\\nAttack accuracy: {v01_mia_scores.mean():0.2f}\"\n",
    ")\n",
    "ax2.hist(v01_test_losses, density=True, alpha=0.5, bins=50, label=\"Test set\")\n",
    "ax2.hist(v01_forget_losses, density=True, alpha=0.5, bins=50, label=\"Forget set\")\n",
    "\n",
    "ax1.set_xlabel(\"Loss\")\n",
    "ax2.set_xlabel(\"Loss\")\n",
    "ax1.set_ylabel(\"Frequency\")\n",
    "ax1.set_yscale(\"log\")\n",
    "ax2.set_yscale(\"log\")\n",
    "ax1.set_xlim((0, np.max(v01_test_losses)))\n",
    "ax2.set_xlim((0, np.max(v01_test_losses)))\n",
    "for ax in (ax1, ax2):\n",
    "    ax.spines[\"top\"].set_visible(False)\n",
    "    ax.spines[\"right\"].set_visible(False)\n",
    "ax1.legend(frameon=False, fontsize=14)\n",
    "plt.show()"
   ]
  },
  {
   "cell_type": "code",
   "execution_count": null,
   "id": "aae04fc7",
   "metadata": {
    "papermill": {
     "duration": 0.48938,
     "end_time": "2023-08-11T17:59:00.440707",
     "exception": false,
     "start_time": "2023-08-11T17:58:59.951327",
     "status": "completed"
    },
    "tags": []
   },
   "outputs": [],
   "source": []
  }
 ],
 "metadata": {
  "kernelspec": {
   "display_name": "Python 3",
   "language": "python",
   "name": "python3"
  },
  "language_info": {
   "codemirror_mode": {
    "name": "ipython",
    "version": 3
   },
   "file_extension": ".py",
   "mimetype": "text/x-python",
   "name": "python",
   "nbconvert_exporter": "python",
   "pygments_lexer": "ipython3",
   "version": "3.10.12"
  },
  "papermill": {
   "default_parameters": {},
   "duration": 2361.270635,
   "end_time": "2023-08-11T17:59:02.635722",
   "environment_variables": {},
   "exception": null,
   "input_path": "__notebook__.ipynb",
   "output_path": "__notebook__.ipynb",
   "parameters": {},
   "start_time": "2023-08-11T17:19:41.365087",
   "version": "2.4.0"
  }
 },
 "nbformat": 4,
 "nbformat_minor": 5
}
